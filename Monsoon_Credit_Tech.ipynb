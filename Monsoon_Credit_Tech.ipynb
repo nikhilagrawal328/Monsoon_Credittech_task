{
 "cells": [
  {
   "cell_type": "code",
   "execution_count": 1,
   "metadata": {},
   "outputs": [],
   "source": [
    "# loading libraries\n",
    "import numpy as np\n",
    "import pandas as pd\n",
    "import matplotlib.pyplot as plt\n",
    "from sklearn import metrics\n",
    "from sklearn.model_selection import StratifiedShuffleSplit\n",
    "from sklearn.ensemble import RandomForestClassifier, GradientBoostingClassifier\n",
    "from sklearn.model_selection import train_test_split\n",
    "from sklearn.model_selection import StratifiedKFold\n",
    "from sklearn import preprocessing\n",
    "from sklearn.utils import resample\n",
    "from sklearn.model_selection import GridSearchCV\n",
    "from xgboost import XGBClassifier\n",
    "import seaborn as sns\n",
    "import os\n",
    "# Stacking Model\n",
    "from mlxtend.classifier import StackingClassifier\n",
    "from sklearn.tree import DecisionTreeClassifier"
   ]
  },
  {
   "cell_type": "code",
   "execution_count": 2,
   "metadata": {},
   "outputs": [
    {
     "data": {
      "text/plain": [
       "'C:\\\\Users\\\\abc\\\\Code_base'"
      ]
     },
     "execution_count": 2,
     "metadata": {},
     "output_type": "execute_result"
    }
   ],
   "source": [
    "os.getcwd()"
   ]
  },
  {
   "cell_type": "code",
   "execution_count": 3,
   "metadata": {},
   "outputs": [],
   "source": [
    "# changing directory\n",
    "os.chdir('C:/Users/abc/Documents/monsoon_credit/DS Test')  "
   ]
  },
  {
   "cell_type": "code",
   "execution_count": 4,
   "metadata": {},
   "outputs": [
    {
     "data": {
      "text/html": [
       "<div>\n",
       "<style scoped>\n",
       "    .dataframe tbody tr th:only-of-type {\n",
       "        vertical-align: middle;\n",
       "    }\n",
       "\n",
       "    .dataframe tbody tr th {\n",
       "        vertical-align: top;\n",
       "    }\n",
       "\n",
       "    .dataframe thead th {\n",
       "        text-align: right;\n",
       "    }\n",
       "</style>\n",
       "<table border=\"1\" class=\"dataframe\">\n",
       "  <thead>\n",
       "    <tr style=\"text-align: right;\">\n",
       "      <th></th>\n",
       "      <th>Unique_ID</th>\n",
       "      <th>C1</th>\n",
       "      <th>C2</th>\n",
       "      <th>C3</th>\n",
       "      <th>C4</th>\n",
       "      <th>C5</th>\n",
       "      <th>C6</th>\n",
       "      <th>C7</th>\n",
       "      <th>C8</th>\n",
       "      <th>N1</th>\n",
       "      <th>...</th>\n",
       "      <th>N26</th>\n",
       "      <th>N27</th>\n",
       "      <th>N28</th>\n",
       "      <th>N29</th>\n",
       "      <th>N30</th>\n",
       "      <th>N31</th>\n",
       "      <th>N32</th>\n",
       "      <th>N33</th>\n",
       "      <th>N34</th>\n",
       "      <th>N35</th>\n",
       "    </tr>\n",
       "  </thead>\n",
       "  <tbody>\n",
       "    <tr>\n",
       "      <th>0</th>\n",
       "      <td>Candidate_5926</td>\n",
       "      <td>1</td>\n",
       "      <td>0</td>\n",
       "      <td>11</td>\n",
       "      <td>31</td>\n",
       "      <td>0</td>\n",
       "      <td>False</td>\n",
       "      <td>0</td>\n",
       "      <td>True</td>\n",
       "      <td>23.75</td>\n",
       "      <td>...</td>\n",
       "      <td>NaN</td>\n",
       "      <td>NaN</td>\n",
       "      <td>NaN</td>\n",
       "      <td>NaN</td>\n",
       "      <td>NaN</td>\n",
       "      <td>NaN</td>\n",
       "      <td>NaN</td>\n",
       "      <td>58.0</td>\n",
       "      <td>113.39</td>\n",
       "      <td>12.0</td>\n",
       "    </tr>\n",
       "    <tr>\n",
       "      <th>1</th>\n",
       "      <td>Candidate_48134</td>\n",
       "      <td>1</td>\n",
       "      <td>4</td>\n",
       "      <td>2</td>\n",
       "      <td>66</td>\n",
       "      <td>2</td>\n",
       "      <td>False</td>\n",
       "      <td>1</td>\n",
       "      <td>True</td>\n",
       "      <td>11.05</td>\n",
       "      <td>...</td>\n",
       "      <td>NaN</td>\n",
       "      <td>NaN</td>\n",
       "      <td>NaN</td>\n",
       "      <td>NaN</td>\n",
       "      <td>NaN</td>\n",
       "      <td>NaN</td>\n",
       "      <td>NaN</td>\n",
       "      <td>160.0</td>\n",
       "      <td>262.10</td>\n",
       "      <td>17.0</td>\n",
       "    </tr>\n",
       "    <tr>\n",
       "      <th>2</th>\n",
       "      <td>Candidate_51717</td>\n",
       "      <td>1</td>\n",
       "      <td>0</td>\n",
       "      <td>19</td>\n",
       "      <td>2</td>\n",
       "      <td>0</td>\n",
       "      <td>False</td>\n",
       "      <td>0</td>\n",
       "      <td>True</td>\n",
       "      <td>29.00</td>\n",
       "      <td>...</td>\n",
       "      <td>NaN</td>\n",
       "      <td>NaN</td>\n",
       "      <td>NaN</td>\n",
       "      <td>NaN</td>\n",
       "      <td>NaN</td>\n",
       "      <td>NaN</td>\n",
       "      <td>NaN</td>\n",
       "      <td>24.0</td>\n",
       "      <td>50.29</td>\n",
       "      <td>18.0</td>\n",
       "    </tr>\n",
       "    <tr>\n",
       "      <th>3</th>\n",
       "      <td>Candidate_26401</td>\n",
       "      <td>1</td>\n",
       "      <td>1</td>\n",
       "      <td>16</td>\n",
       "      <td>47</td>\n",
       "      <td>1</td>\n",
       "      <td>False</td>\n",
       "      <td>4</td>\n",
       "      <td>True</td>\n",
       "      <td>17.99</td>\n",
       "      <td>...</td>\n",
       "      <td>NaN</td>\n",
       "      <td>NaN</td>\n",
       "      <td>NaN</td>\n",
       "      <td>NaN</td>\n",
       "      <td>NaN</td>\n",
       "      <td>NaN</td>\n",
       "      <td>NaN</td>\n",
       "      <td>70.0</td>\n",
       "      <td>126.52</td>\n",
       "      <td>27.0</td>\n",
       "    </tr>\n",
       "    <tr>\n",
       "      <th>4</th>\n",
       "      <td>Candidate_34872</td>\n",
       "      <td>1</td>\n",
       "      <td>1</td>\n",
       "      <td>13</td>\n",
       "      <td>1</td>\n",
       "      <td>1</td>\n",
       "      <td>True</td>\n",
       "      <td>6</td>\n",
       "      <td>True</td>\n",
       "      <td>27.50</td>\n",
       "      <td>...</td>\n",
       "      <td>NaN</td>\n",
       "      <td>NaN</td>\n",
       "      <td>NaN</td>\n",
       "      <td>NaN</td>\n",
       "      <td>NaN</td>\n",
       "      <td>NaN</td>\n",
       "      <td>NaN</td>\n",
       "      <td>100.0</td>\n",
       "      <td>205.47</td>\n",
       "      <td>21.0</td>\n",
       "    </tr>\n",
       "  </tbody>\n",
       "</table>\n",
       "<p>5 rows × 44 columns</p>\n",
       "</div>"
      ],
      "text/plain": [
       "         Unique_ID  C1  C2  C3  C4  C5     C6  C7    C8     N1  ...  N26  N27  \\\n",
       "0   Candidate_5926   1   0  11  31   0  False   0  True  23.75  ...  NaN  NaN   \n",
       "1  Candidate_48134   1   4   2  66   2  False   1  True  11.05  ...  NaN  NaN   \n",
       "2  Candidate_51717   1   0  19   2   0  False   0  True  29.00  ...  NaN  NaN   \n",
       "3  Candidate_26401   1   1  16  47   1  False   4  True  17.99  ...  NaN  NaN   \n",
       "4  Candidate_34872   1   1  13   1   1   True   6  True  27.50  ...  NaN  NaN   \n",
       "\n",
       "   N28  N29  N30  N31  N32    N33     N34   N35  \n",
       "0  NaN  NaN  NaN  NaN  NaN   58.0  113.39  12.0  \n",
       "1  NaN  NaN  NaN  NaN  NaN  160.0  262.10  17.0  \n",
       "2  NaN  NaN  NaN  NaN  NaN   24.0   50.29  18.0  \n",
       "3  NaN  NaN  NaN  NaN  NaN   70.0  126.52  27.0  \n",
       "4  NaN  NaN  NaN  NaN  NaN  100.0  205.47  21.0  \n",
       "\n",
       "[5 rows x 44 columns]"
      ]
     },
     "execution_count": 4,
     "metadata": {},
     "output_type": "execute_result"
    }
   ],
   "source": [
    "# loading the train data\n",
    "train = pd.read_csv('Training/X_train.csv')\n",
    "train.head() # printing first few 5 rows"
   ]
  },
  {
   "cell_type": "code",
   "execution_count": 5,
   "metadata": {},
   "outputs": [
    {
     "data": {
      "text/plain": [
       "(33050, 44)"
      ]
     },
     "execution_count": 5,
     "metadata": {},
     "output_type": "execute_result"
    }
   ],
   "source": [
    "train.shape"
   ]
  },
  {
   "cell_type": "code",
   "execution_count": 6,
   "metadata": {},
   "outputs": [
    {
     "name": "stdout",
     "output_type": "stream",
     "text": [
      "<class 'pandas.core.frame.DataFrame'>\n",
      "RangeIndex: 33050 entries, 0 to 33049\n",
      "Data columns (total 44 columns):\n",
      "Unique_ID    33050 non-null object\n",
      "C1           33050 non-null int64\n",
      "C2           33050 non-null int64\n",
      "C3           33050 non-null int64\n",
      "C4           33050 non-null int64\n",
      "C5           33050 non-null int64\n",
      "C6           33050 non-null bool\n",
      "C7           33050 non-null int64\n",
      "C8           33050 non-null bool\n",
      "N1           33050 non-null float64\n",
      "N2           28438 non-null float64\n",
      "N3           32685 non-null float64\n",
      "N4           28444 non-null float64\n",
      "N5           28444 non-null float64\n",
      "N6           32685 non-null float64\n",
      "N7           32623 non-null float64\n",
      "N8           33050 non-null int64\n",
      "N9           33050 non-null int64\n",
      "N10          32623 non-null float64\n",
      "N10.1        32623 non-null float64\n",
      "N11          32334 non-null float64\n",
      "N12          28436 non-null float64\n",
      "N14          32442 non-null float64\n",
      "N15          32623 non-null float64\n",
      "N16          28444 non-null float64\n",
      "N17          28444 non-null float64\n",
      "N18          28444 non-null float64\n",
      "N19          28479 non-null float64\n",
      "N20          28479 non-null float64\n",
      "N21          28479 non-null float64\n",
      "N22          28479 non-null float64\n",
      "N23          30564 non-null float64\n",
      "N24          33050 non-null float64\n",
      "N25          6271 non-null float64\n",
      "N26          6271 non-null float64\n",
      "N27          6271 non-null float64\n",
      "N28          6271 non-null float64\n",
      "N29          6271 non-null float64\n",
      "N30          6271 non-null float64\n",
      "N31          6271 non-null float64\n",
      "N32          6220 non-null float64\n",
      "N33          33050 non-null float64\n",
      "N34          33050 non-null float64\n",
      "N35          32623 non-null float64\n",
      "dtypes: bool(2), float64(33), int64(8), object(1)\n",
      "memory usage: 10.7+ MB\n"
     ]
    }
   ],
   "source": [
    "train.info()"
   ]
  },
  {
   "cell_type": "code",
   "execution_count": 7,
   "metadata": {},
   "outputs": [
    {
     "data": {
      "text/html": [
       "<div>\n",
       "<style scoped>\n",
       "    .dataframe tbody tr th:only-of-type {\n",
       "        vertical-align: middle;\n",
       "    }\n",
       "\n",
       "    .dataframe tbody tr th {\n",
       "        vertical-align: top;\n",
       "    }\n",
       "\n",
       "    .dataframe thead th {\n",
       "        text-align: right;\n",
       "    }\n",
       "</style>\n",
       "<table border=\"1\" class=\"dataframe\">\n",
       "  <thead>\n",
       "    <tr style=\"text-align: right;\">\n",
       "      <th></th>\n",
       "      <th>C1</th>\n",
       "      <th>C2</th>\n",
       "      <th>C3</th>\n",
       "      <th>C4</th>\n",
       "      <th>C5</th>\n",
       "      <th>C7</th>\n",
       "      <th>N1</th>\n",
       "      <th>N2</th>\n",
       "      <th>N3</th>\n",
       "      <th>N4</th>\n",
       "      <th>...</th>\n",
       "      <th>N26</th>\n",
       "      <th>N27</th>\n",
       "      <th>N28</th>\n",
       "      <th>N29</th>\n",
       "      <th>N30</th>\n",
       "      <th>N31</th>\n",
       "      <th>N32</th>\n",
       "      <th>N33</th>\n",
       "      <th>N34</th>\n",
       "      <th>N35</th>\n",
       "    </tr>\n",
       "  </thead>\n",
       "  <tbody>\n",
       "    <tr>\n",
       "      <th>count</th>\n",
       "      <td>33050.000000</td>\n",
       "      <td>33050.000000</td>\n",
       "      <td>33050.000000</td>\n",
       "      <td>33050.000000</td>\n",
       "      <td>33050.000000</td>\n",
       "      <td>33050.000000</td>\n",
       "      <td>33050.00000</td>\n",
       "      <td>28438.000000</td>\n",
       "      <td>32685.000000</td>\n",
       "      <td>28444.000000</td>\n",
       "      <td>...</td>\n",
       "      <td>6271.000000</td>\n",
       "      <td>6271.000000</td>\n",
       "      <td>6271.000000</td>\n",
       "      <td>6271.000000</td>\n",
       "      <td>6271.000000</td>\n",
       "      <td>6271.000000</td>\n",
       "      <td>6220.000000</td>\n",
       "      <td>33050.000000</td>\n",
       "      <td>33050.000000</td>\n",
       "      <td>32623.000000</td>\n",
       "    </tr>\n",
       "    <tr>\n",
       "      <th>mean</th>\n",
       "      <td>1.119818</td>\n",
       "      <td>2.403873</td>\n",
       "      <td>12.856097</td>\n",
       "      <td>14.437398</td>\n",
       "      <td>1.719395</td>\n",
       "      <td>3.124932</td>\n",
       "      <td>19.97653</td>\n",
       "      <td>81.342710</td>\n",
       "      <td>3.359361</td>\n",
       "      <td>9.574075</td>\n",
       "      <td>...</td>\n",
       "      <td>20.084197</td>\n",
       "      <td>19.512199</td>\n",
       "      <td>0.526391</td>\n",
       "      <td>0.045288</td>\n",
       "      <td>7192.813526</td>\n",
       "      <td>2379.621620</td>\n",
       "      <td>0.744373</td>\n",
       "      <td>125.629394</td>\n",
       "      <td>224.313536</td>\n",
       "      <td>19.587254</td>\n",
       "    </tr>\n",
       "    <tr>\n",
       "      <th>std</th>\n",
       "      <td>0.399382</td>\n",
       "      <td>3.399024</td>\n",
       "      <td>12.013457</td>\n",
       "      <td>15.527474</td>\n",
       "      <td>1.320860</td>\n",
       "      <td>2.158905</td>\n",
       "      <td>8.11087</td>\n",
       "      <td>85.397795</td>\n",
       "      <td>0.411040</td>\n",
       "      <td>5.584756</td>\n",
       "      <td>...</td>\n",
       "      <td>16.045120</td>\n",
       "      <td>15.637882</td>\n",
       "      <td>2.144069</td>\n",
       "      <td>0.443838</td>\n",
       "      <td>6460.139952</td>\n",
       "      <td>3379.065104</td>\n",
       "      <td>50.764684</td>\n",
       "      <td>104.391919</td>\n",
       "      <td>186.513844</td>\n",
       "      <td>7.352667</td>\n",
       "    </tr>\n",
       "    <tr>\n",
       "      <th>min</th>\n",
       "      <td>1.000000</td>\n",
       "      <td>0.000000</td>\n",
       "      <td>0.000000</td>\n",
       "      <td>0.000000</td>\n",
       "      <td>0.000000</td>\n",
       "      <td>0.000000</td>\n",
       "      <td>0.00000</td>\n",
       "      <td>0.000000</td>\n",
       "      <td>0.000000</td>\n",
       "      <td>0.000000</td>\n",
       "      <td>...</td>\n",
       "      <td>0.000000</td>\n",
       "      <td>0.000000</td>\n",
       "      <td>0.000000</td>\n",
       "      <td>0.000000</td>\n",
       "      <td>1000.000000</td>\n",
       "      <td>0.000000</td>\n",
       "      <td>-194.000000</td>\n",
       "      <td>20.000000</td>\n",
       "      <td>0.000000</td>\n",
       "      <td>2.000000</td>\n",
       "    </tr>\n",
       "    <tr>\n",
       "      <th>25%</th>\n",
       "      <td>1.000000</td>\n",
       "      <td>0.000000</td>\n",
       "      <td>2.000000</td>\n",
       "      <td>1.000000</td>\n",
       "      <td>1.000000</td>\n",
       "      <td>1.000000</td>\n",
       "      <td>13.45000</td>\n",
       "      <td>21.000000</td>\n",
       "      <td>3.200000</td>\n",
       "      <td>6.000000</td>\n",
       "      <td>...</td>\n",
       "      <td>9.000000</td>\n",
       "      <td>9.000000</td>\n",
       "      <td>0.000000</td>\n",
       "      <td>0.000000</td>\n",
       "      <td>3000.000000</td>\n",
       "      <td>0.000000</td>\n",
       "      <td>-31.000000</td>\n",
       "      <td>54.000000</td>\n",
       "      <td>98.740000</td>\n",
       "      <td>14.000000</td>\n",
       "    </tr>\n",
       "    <tr>\n",
       "      <th>50%</th>\n",
       "      <td>1.000000</td>\n",
       "      <td>1.000000</td>\n",
       "      <td>10.000000</td>\n",
       "      <td>10.000000</td>\n",
       "      <td>2.000000</td>\n",
       "      <td>4.000000</td>\n",
       "      <td>19.27500</td>\n",
       "      <td>53.000000</td>\n",
       "      <td>3.400000</td>\n",
       "      <td>9.000000</td>\n",
       "      <td>...</td>\n",
       "      <td>15.000000</td>\n",
       "      <td>14.000000</td>\n",
       "      <td>0.000000</td>\n",
       "      <td>0.000000</td>\n",
       "      <td>5000.000000</td>\n",
       "      <td>1108.440000</td>\n",
       "      <td>0.000000</td>\n",
       "      <td>90.000000</td>\n",
       "      <td>172.600000</td>\n",
       "      <td>19.000000</td>\n",
       "    </tr>\n",
       "    <tr>\n",
       "      <th>75%</th>\n",
       "      <td>1.000000</td>\n",
       "      <td>3.000000</td>\n",
       "      <td>20.000000</td>\n",
       "      <td>26.000000</td>\n",
       "      <td>2.000000</td>\n",
       "      <td>4.000000</td>\n",
       "      <td>26.90000</td>\n",
       "      <td>112.000000</td>\n",
       "      <td>3.600000</td>\n",
       "      <td>13.000000</td>\n",
       "      <td>...</td>\n",
       "      <td>28.000000</td>\n",
       "      <td>27.000000</td>\n",
       "      <td>0.000000</td>\n",
       "      <td>0.000000</td>\n",
       "      <td>9500.000000</td>\n",
       "      <td>3408.750000</td>\n",
       "      <td>32.000000</td>\n",
       "      <td>160.000000</td>\n",
       "      <td>300.947500</td>\n",
       "      <td>24.000000</td>\n",
       "    </tr>\n",
       "    <tr>\n",
       "      <th>max</th>\n",
       "      <td>3.000000</td>\n",
       "      <td>20.000000</td>\n",
       "      <td>51.000000</td>\n",
       "      <td>67.000000</td>\n",
       "      <td>7.000000</td>\n",
       "      <td>7.000000</td>\n",
       "      <td>48.00000</td>\n",
       "      <td>755.000000</td>\n",
       "      <td>4.400000</td>\n",
       "      <td>59.000000</td>\n",
       "      <td>...</td>\n",
       "      <td>120.000000</td>\n",
       "      <td>111.000000</td>\n",
       "      <td>42.000000</td>\n",
       "      <td>11.000000</td>\n",
       "      <td>60001.000000</td>\n",
       "      <td>22586.670000</td>\n",
       "      <td>257.000000</td>\n",
       "      <td>700.000000</td>\n",
       "      <td>2153.380000</td>\n",
       "      <td>64.000000</td>\n",
       "    </tr>\n",
       "  </tbody>\n",
       "</table>\n",
       "<p>8 rows × 41 columns</p>\n",
       "</div>"
      ],
      "text/plain": [
       "                 C1            C2            C3            C4            C5  \\\n",
       "count  33050.000000  33050.000000  33050.000000  33050.000000  33050.000000   \n",
       "mean       1.119818      2.403873     12.856097     14.437398      1.719395   \n",
       "std        0.399382      3.399024     12.013457     15.527474      1.320860   \n",
       "min        1.000000      0.000000      0.000000      0.000000      0.000000   \n",
       "25%        1.000000      0.000000      2.000000      1.000000      1.000000   \n",
       "50%        1.000000      1.000000     10.000000     10.000000      2.000000   \n",
       "75%        1.000000      3.000000     20.000000     26.000000      2.000000   \n",
       "max        3.000000     20.000000     51.000000     67.000000      7.000000   \n",
       "\n",
       "                 C7           N1            N2            N3            N4  \\\n",
       "count  33050.000000  33050.00000  28438.000000  32685.000000  28444.000000   \n",
       "mean       3.124932     19.97653     81.342710      3.359361      9.574075   \n",
       "std        2.158905      8.11087     85.397795      0.411040      5.584756   \n",
       "min        0.000000      0.00000      0.000000      0.000000      0.000000   \n",
       "25%        1.000000     13.45000     21.000000      3.200000      6.000000   \n",
       "50%        4.000000     19.27500     53.000000      3.400000      9.000000   \n",
       "75%        4.000000     26.90000    112.000000      3.600000     13.000000   \n",
       "max        7.000000     48.00000    755.000000      4.400000     59.000000   \n",
       "\n",
       "       ...          N26          N27          N28          N29           N30  \\\n",
       "count  ...  6271.000000  6271.000000  6271.000000  6271.000000   6271.000000   \n",
       "mean   ...    20.084197    19.512199     0.526391     0.045288   7192.813526   \n",
       "std    ...    16.045120    15.637882     2.144069     0.443838   6460.139952   \n",
       "min    ...     0.000000     0.000000     0.000000     0.000000   1000.000000   \n",
       "25%    ...     9.000000     9.000000     0.000000     0.000000   3000.000000   \n",
       "50%    ...    15.000000    14.000000     0.000000     0.000000   5000.000000   \n",
       "75%    ...    28.000000    27.000000     0.000000     0.000000   9500.000000   \n",
       "max    ...   120.000000   111.000000    42.000000    11.000000  60001.000000   \n",
       "\n",
       "                N31          N32           N33           N34           N35  \n",
       "count   6271.000000  6220.000000  33050.000000  33050.000000  32623.000000  \n",
       "mean    2379.621620     0.744373    125.629394    224.313536     19.587254  \n",
       "std     3379.065104    50.764684    104.391919    186.513844      7.352667  \n",
       "min        0.000000  -194.000000     20.000000      0.000000      2.000000  \n",
       "25%        0.000000   -31.000000     54.000000     98.740000     14.000000  \n",
       "50%     1108.440000     0.000000     90.000000    172.600000     19.000000  \n",
       "75%     3408.750000    32.000000    160.000000    300.947500     24.000000  \n",
       "max    22586.670000   257.000000    700.000000   2153.380000     64.000000  \n",
       "\n",
       "[8 rows x 41 columns]"
      ]
     },
     "execution_count": 7,
     "metadata": {},
     "output_type": "execute_result"
    }
   ],
   "source": [
    "train.describe()"
   ]
  },
  {
   "cell_type": "code",
   "execution_count": 145,
   "metadata": {},
   "outputs": [],
   "source": [
    "y=pd.read_csv('Training/y_train.csv')"
   ]
  },
  {
   "cell_type": "code",
   "execution_count": 9,
   "metadata": {},
   "outputs": [
    {
     "data": {
      "text/plain": [
       "(33050, 2)"
      ]
     },
     "execution_count": 9,
     "metadata": {},
     "output_type": "execute_result"
    }
   ],
   "source": [
    "y.shape"
   ]
  },
  {
   "cell_type": "code",
   "execution_count": 10,
   "metadata": {},
   "outputs": [
    {
     "data": {
      "text/html": [
       "<div>\n",
       "<style scoped>\n",
       "    .dataframe tbody tr th:only-of-type {\n",
       "        vertical-align: middle;\n",
       "    }\n",
       "\n",
       "    .dataframe tbody tr th {\n",
       "        vertical-align: top;\n",
       "    }\n",
       "\n",
       "    .dataframe thead th {\n",
       "        text-align: right;\n",
       "    }\n",
       "</style>\n",
       "<table border=\"1\" class=\"dataframe\">\n",
       "  <thead>\n",
       "    <tr style=\"text-align: right;\">\n",
       "      <th></th>\n",
       "      <th>Unique_ID</th>\n",
       "      <th>Dependent_Variable</th>\n",
       "    </tr>\n",
       "  </thead>\n",
       "  <tbody>\n",
       "    <tr>\n",
       "      <th>0</th>\n",
       "      <td>Candidate_5926</td>\n",
       "      <td>1</td>\n",
       "    </tr>\n",
       "    <tr>\n",
       "      <th>1</th>\n",
       "      <td>Candidate_48134</td>\n",
       "      <td>0</td>\n",
       "    </tr>\n",
       "    <tr>\n",
       "      <th>2</th>\n",
       "      <td>Candidate_51717</td>\n",
       "      <td>1</td>\n",
       "    </tr>\n",
       "    <tr>\n",
       "      <th>3</th>\n",
       "      <td>Candidate_26401</td>\n",
       "      <td>0</td>\n",
       "    </tr>\n",
       "    <tr>\n",
       "      <th>4</th>\n",
       "      <td>Candidate_34872</td>\n",
       "      <td>0</td>\n",
       "    </tr>\n",
       "  </tbody>\n",
       "</table>\n",
       "</div>"
      ],
      "text/plain": [
       "         Unique_ID  Dependent_Variable\n",
       "0   Candidate_5926                   1\n",
       "1  Candidate_48134                   0\n",
       "2  Candidate_51717                   1\n",
       "3  Candidate_26401                   0\n",
       "4  Candidate_34872                   0"
      ]
     },
     "execution_count": 10,
     "metadata": {},
     "output_type": "execute_result"
    }
   ],
   "source": [
    "y.head()"
   ]
  },
  {
   "cell_type": "code",
   "execution_count": 11,
   "metadata": {},
   "outputs": [
    {
     "data": {
      "image/png": "[encoded data removed]",
      "text/plain": [
       "<Figure size 432x288 with 1 Axes>"
      ]
     },
     "metadata": {
      "needs_background": "light"
     },
     "output_type": "display_data"
    }
   ],
   "source": [
    "# plotting bar plot of target values\n",
    "y.Dependent_Variable.value_counts().plot.bar()\n",
    "plt.ylabel('value')\n",
    "plt.title('target for each class')\n",
    "plt.show()"
   ]
  },
  {
   "cell_type": "code",
   "execution_count": 12,
   "metadata": {},
   "outputs": [
    {
     "data": {
      "text/plain": [
       "0    22844\n",
       "1    10206\n",
       "Name: Dependent_Variable, dtype: int64"
      ]
     },
     "execution_count": 12,
     "metadata": {},
     "output_type": "execute_result"
    }
   ],
   "source": [
    "y.Dependent_Variable.value_counts()"
   ]
  },
  {
   "cell_type": "markdown",
   "metadata": {},
   "source": [
    "<h4> As the classes are slightly unbalanced so we will also employ oversampling techniques while modelling.</h4>"
   ]
  },
  {
   "cell_type": "markdown",
   "metadata": {},
   "source": [
    "### Data Cleaning"
   ]
  },
  {
   "cell_type": "code",
   "execution_count": 13,
   "metadata": {},
   "outputs": [
    {
     "data": {
      "text/plain": [
       "0.8102571860816944"
      ]
     },
     "execution_count": 13,
     "metadata": {},
     "output_type": "execute_result"
    }
   ],
   "source": [
    "train['N26'].isnull().sum()/len(train)"
   ]
  },
  {
   "cell_type": "code",
   "execution_count": 14,
   "metadata": {},
   "outputs": [],
   "source": [
    "threshold = 0.7\n",
    "#Dropping columns with missing value rate higher than threshold\n",
    "train = train[train.columns[train.isnull().sum()/len(train) < threshold]]"
   ]
  },
  {
   "cell_type": "code",
   "execution_count": 15,
   "metadata": {},
   "outputs": [
    {
     "data": {
      "text/plain": [
       "(33050, 36)"
      ]
     },
     "execution_count": 15,
     "metadata": {},
     "output_type": "execute_result"
    }
   ],
   "source": [
    "# Now the required column remains to 36 which was previously 44.\n",
    "train.shape"
   ]
  },
  {
   "cell_type": "code",
   "execution_count": 18,
   "metadata": {},
   "outputs": [
    {
     "name": "stdout",
     "output_type": "stream",
     "text": [
      "<class 'pandas.core.frame.DataFrame'>\n",
      "RangeIndex: 33050 entries, 0 to 33049\n",
      "Data columns (total 36 columns):\n",
      "Unique_ID    33050 non-null object\n",
      "C1           33050 non-null int64\n",
      "C2           33050 non-null int64\n",
      "C3           33050 non-null int64\n",
      "C4           33050 non-null int64\n",
      "C5           33050 non-null int64\n",
      "C6           33050 non-null bool\n",
      "C7           33050 non-null int64\n",
      "C8           33050 non-null bool\n",
      "N1           33050 non-null float64\n",
      "N2           28438 non-null float64\n",
      "N3           32685 non-null float64\n",
      "N4           28444 non-null float64\n",
      "N5           28444 non-null float64\n",
      "N6           32685 non-null float64\n",
      "N7           32623 non-null float64\n",
      "N8           33050 non-null int64\n",
      "N9           33050 non-null int64\n",
      "N10          32623 non-null float64\n",
      "N10.1        32623 non-null float64\n",
      "N11          32334 non-null float64\n",
      "N12          28436 non-null float64\n",
      "N14          32442 non-null float64\n",
      "N15          32623 non-null float64\n",
      "N16          28444 non-null float64\n",
      "N17          28444 non-null float64\n",
      "N18          28444 non-null float64\n",
      "N19          28479 non-null float64\n",
      "N20          28479 non-null float64\n",
      "N21          28479 non-null float64\n",
      "N22          28479 non-null float64\n",
      "N23          30564 non-null float64\n",
      "N24          33050 non-null float64\n",
      "N33          33050 non-null float64\n",
      "N34          33050 non-null float64\n",
      "N35          32623 non-null float64\n",
      "dtypes: bool(2), float64(25), int64(8), object(1)\n",
      "memory usage: 8.6+ MB\n"
     ]
    }
   ],
   "source": [
    "train.info()"
   ]
  },
  {
   "cell_type": "code",
   "execution_count": 16,
   "metadata": {},
   "outputs": [],
   "source": [
    "# filling nan value in numerical column with the median\n",
    "for i in train.columns:\n",
    "    if train[i].dtypes==float:\n",
    "        if train[i].isnull().sum()>0:\n",
    "            mediancol=train[i].median()\n",
    "            train[i].fillna(mediancol,inplace=True)\n",
    "            "
   ]
  },
  {
   "cell_type": "code",
   "execution_count": 17,
   "metadata": {},
   "outputs": [
    {
     "name": "stdout",
     "output_type": "stream",
     "text": [
      "<class 'pandas.core.frame.DataFrame'>\n",
      "RangeIndex: 33050 entries, 0 to 33049\n",
      "Data columns (total 36 columns):\n",
      "Unique_ID    33050 non-null object\n",
      "C1           33050 non-null int64\n",
      "C2           33050 non-null int64\n",
      "C3           33050 non-null int64\n",
      "C4           33050 non-null int64\n",
      "C5           33050 non-null int64\n",
      "C6           33050 non-null bool\n",
      "C7           33050 non-null int64\n",
      "C8           33050 non-null bool\n",
      "N1           33050 non-null float64\n",
      "N2           33050 non-null float64\n",
      "N3           33050 non-null float64\n",
      "N4           33050 non-null float64\n",
      "N5           33050 non-null float64\n",
      "N6           33050 non-null float64\n",
      "N7           33050 non-null float64\n",
      "N8           33050 non-null int64\n",
      "N9           33050 non-null int64\n",
      "N10          33050 non-null float64\n",
      "N10.1        33050 non-null float64\n",
      "N11          33050 non-null float64\n",
      "N12          33050 non-null float64\n",
      "N14          33050 non-null float64\n",
      "N15          33050 non-null float64\n",
      "N16          33050 non-null float64\n",
      "N17          33050 non-null float64\n",
      "N18          33050 non-null float64\n",
      "N19          33050 non-null float64\n",
      "N20          33050 non-null float64\n",
      "N21          33050 non-null float64\n",
      "N22          33050 non-null float64\n",
      "N23          33050 non-null float64\n",
      "N24          33050 non-null float64\n",
      "N33          33050 non-null float64\n",
      "N34          33050 non-null float64\n",
      "N35          33050 non-null float64\n",
      "dtypes: bool(2), float64(25), int64(8), object(1)\n",
      "memory usage: 8.6+ MB\n"
     ]
    }
   ],
   "source": [
    "# Checking if all of the columns are completely filled or not\n",
    "train.info()"
   ]
  },
  {
   "cell_type": "code",
   "execution_count": 18,
   "metadata": {},
   "outputs": [],
   "source": [
    "train_data=train.copy()"
   ]
  },
  {
   "cell_type": "code",
   "execution_count": 22,
   "metadata": {},
   "outputs": [
    {
     "data": {
      "text/html": [
       "<div>\n",
       "<style scoped>\n",
       "    .dataframe tbody tr th:only-of-type {\n",
       "        vertical-align: middle;\n",
       "    }\n",
       "\n",
       "    .dataframe tbody tr th {\n",
       "        vertical-align: top;\n",
       "    }\n",
       "\n",
       "    .dataframe thead th {\n",
       "        text-align: right;\n",
       "    }\n",
       "</style>\n",
       "<table border=\"1\" class=\"dataframe\">\n",
       "  <thead>\n",
       "    <tr style=\"text-align: right;\">\n",
       "      <th></th>\n",
       "      <th>Unique_ID</th>\n",
       "      <th>C1</th>\n",
       "      <th>C2</th>\n",
       "      <th>C3</th>\n",
       "      <th>C4</th>\n",
       "      <th>C5</th>\n",
       "      <th>C7</th>\n",
       "      <th>N1</th>\n",
       "      <th>N2</th>\n",
       "      <th>N3</th>\n",
       "      <th>...</th>\n",
       "      <th>N20</th>\n",
       "      <th>N21</th>\n",
       "      <th>N22</th>\n",
       "      <th>N23</th>\n",
       "      <th>N24</th>\n",
       "      <th>N33</th>\n",
       "      <th>N34</th>\n",
       "      <th>N35</th>\n",
       "      <th>C6_bool</th>\n",
       "      <th>C8_bool</th>\n",
       "    </tr>\n",
       "  </thead>\n",
       "  <tbody>\n",
       "    <tr>\n",
       "      <th>0</th>\n",
       "      <td>Candidate_5926</td>\n",
       "      <td>1</td>\n",
       "      <td>0</td>\n",
       "      <td>11</td>\n",
       "      <td>31</td>\n",
       "      <td>0</td>\n",
       "      <td>0</td>\n",
       "      <td>23.75</td>\n",
       "      <td>53.0</td>\n",
       "      <td>2.5</td>\n",
       "      <td>...</td>\n",
       "      <td>20.0</td>\n",
       "      <td>0.92</td>\n",
       "      <td>1.0</td>\n",
       "      <td>27.816</td>\n",
       "      <td>1750.000000</td>\n",
       "      <td>58.0</td>\n",
       "      <td>113.39</td>\n",
       "      <td>12.0</td>\n",
       "      <td>0</td>\n",
       "      <td>1</td>\n",
       "    </tr>\n",
       "    <tr>\n",
       "      <th>1</th>\n",
       "      <td>Candidate_48134</td>\n",
       "      <td>1</td>\n",
       "      <td>4</td>\n",
       "      <td>2</td>\n",
       "      <td>66</td>\n",
       "      <td>2</td>\n",
       "      <td>1</td>\n",
       "      <td>11.05</td>\n",
       "      <td>22.0</td>\n",
       "      <td>3.7</td>\n",
       "      <td>...</td>\n",
       "      <td>17.0</td>\n",
       "      <td>0.88</td>\n",
       "      <td>1.0</td>\n",
       "      <td>40.000</td>\n",
       "      <td>10833.333330</td>\n",
       "      <td>160.0</td>\n",
       "      <td>262.10</td>\n",
       "      <td>17.0</td>\n",
       "      <td>0</td>\n",
       "      <td>1</td>\n",
       "    </tr>\n",
       "    <tr>\n",
       "      <th>2</th>\n",
       "      <td>Candidate_51717</td>\n",
       "      <td>1</td>\n",
       "      <td>0</td>\n",
       "      <td>19</td>\n",
       "      <td>2</td>\n",
       "      <td>0</td>\n",
       "      <td>0</td>\n",
       "      <td>29.00</td>\n",
       "      <td>53.0</td>\n",
       "      <td>2.4</td>\n",
       "      <td>...</td>\n",
       "      <td>20.0</td>\n",
       "      <td>0.92</td>\n",
       "      <td>1.0</td>\n",
       "      <td>20.000</td>\n",
       "      <td>6250.000000</td>\n",
       "      <td>24.0</td>\n",
       "      <td>50.29</td>\n",
       "      <td>18.0</td>\n",
       "      <td>0</td>\n",
       "      <td>1</td>\n",
       "    </tr>\n",
       "    <tr>\n",
       "      <th>3</th>\n",
       "      <td>Candidate_26401</td>\n",
       "      <td>1</td>\n",
       "      <td>1</td>\n",
       "      <td>16</td>\n",
       "      <td>47</td>\n",
       "      <td>1</td>\n",
       "      <td>4</td>\n",
       "      <td>17.99</td>\n",
       "      <td>1.0</td>\n",
       "      <td>3.5</td>\n",
       "      <td>...</td>\n",
       "      <td>6.0</td>\n",
       "      <td>1.00</td>\n",
       "      <td>0.0</td>\n",
       "      <td>26.000</td>\n",
       "      <td>2413.666667</td>\n",
       "      <td>70.0</td>\n",
       "      <td>126.52</td>\n",
       "      <td>27.0</td>\n",
       "      <td>0</td>\n",
       "      <td>1</td>\n",
       "    </tr>\n",
       "    <tr>\n",
       "      <th>4</th>\n",
       "      <td>Candidate_34872</td>\n",
       "      <td>1</td>\n",
       "      <td>1</td>\n",
       "      <td>13</td>\n",
       "      <td>1</td>\n",
       "      <td>1</td>\n",
       "      <td>6</td>\n",
       "      <td>27.50</td>\n",
       "      <td>206.0</td>\n",
       "      <td>3.8</td>\n",
       "      <td>...</td>\n",
       "      <td>31.0</td>\n",
       "      <td>0.96</td>\n",
       "      <td>0.0</td>\n",
       "      <td>44.000</td>\n",
       "      <td>7666.666667</td>\n",
       "      <td>100.0</td>\n",
       "      <td>205.47</td>\n",
       "      <td>21.0</td>\n",
       "      <td>1</td>\n",
       "      <td>1</td>\n",
       "    </tr>\n",
       "  </tbody>\n",
       "</table>\n",
       "<p>5 rows × 36 columns</p>\n",
       "</div>"
      ],
      "text/plain": [
       "         Unique_ID  C1  C2  C3  C4  C5  C7     N1     N2   N3  ...   N20  \\\n",
       "0   Candidate_5926   1   0  11  31   0   0  23.75   53.0  2.5  ...  20.0   \n",
       "1  Candidate_48134   1   4   2  66   2   1  11.05   22.0  3.7  ...  17.0   \n",
       "2  Candidate_51717   1   0  19   2   0   0  29.00   53.0  2.4  ...  20.0   \n",
       "3  Candidate_26401   1   1  16  47   1   4  17.99    1.0  3.5  ...   6.0   \n",
       "4  Candidate_34872   1   1  13   1   1   6  27.50  206.0  3.8  ...  31.0   \n",
       "\n",
       "    N21  N22     N23           N24    N33     N34   N35  C6_bool  C8_bool  \n",
       "0  0.92  1.0  27.816   1750.000000   58.0  113.39  12.0        0        1  \n",
       "1  0.88  1.0  40.000  10833.333330  160.0  262.10  17.0        0        1  \n",
       "2  0.92  1.0  20.000   6250.000000   24.0   50.29  18.0        0        1  \n",
       "3  1.00  0.0  26.000   2413.666667   70.0  126.52  27.0        0        1  \n",
       "4  0.96  0.0  44.000   7666.666667  100.0  205.47  21.0        1        1  \n",
       "\n",
       "[5 rows x 36 columns]"
      ]
     },
     "execution_count": 22,
     "metadata": {},
     "output_type": "execute_result"
    }
   ],
   "source": [
    "train_data.head()"
   ]
  },
  {
   "cell_type": "code",
   "execution_count": 20,
   "metadata": {},
   "outputs": [],
   "source": [
    "def mapping(x):\n",
    "    if x==False:\n",
    "        return 0\n",
    "    else:\n",
    "        return 1"
   ]
  },
  {
   "cell_type": "code",
   "execution_count": 21,
   "metadata": {},
   "outputs": [],
   "source": [
    "# Mapping boolean columns to 0-1 encoding(0 to False and 1 to True)\n",
    "bool_column_list=['C6','C8']\n",
    "for i in bool_column_list:\n",
    "    numerical_conversion=train_data[i]\n",
    "    train_data[i+'_bool']=numerical_conversion.map(mapping)\n",
    "    train_data.drop(i,inplace=True,axis=1)"
   ]
  },
  {
   "cell_type": "code",
   "execution_count": 24,
   "metadata": {},
   "outputs": [
    {
     "data": {
      "text/html": [
       "<div>\n",
       "<style scoped>\n",
       "    .dataframe tbody tr th:only-of-type {\n",
       "        vertical-align: middle;\n",
       "    }\n",
       "\n",
       "    .dataframe tbody tr th {\n",
       "        vertical-align: top;\n",
       "    }\n",
       "\n",
       "    .dataframe thead th {\n",
       "        text-align: right;\n",
       "    }\n",
       "</style>\n",
       "<table border=\"1\" class=\"dataframe\">\n",
       "  <thead>\n",
       "    <tr style=\"text-align: right;\">\n",
       "      <th></th>\n",
       "      <th>Unique_ID</th>\n",
       "      <th>Dependent_Variable</th>\n",
       "    </tr>\n",
       "  </thead>\n",
       "  <tbody>\n",
       "    <tr>\n",
       "      <th>0</th>\n",
       "      <td>Candidate_5926</td>\n",
       "      <td>1</td>\n",
       "    </tr>\n",
       "    <tr>\n",
       "      <th>1</th>\n",
       "      <td>Candidate_48134</td>\n",
       "      <td>0</td>\n",
       "    </tr>\n",
       "    <tr>\n",
       "      <th>2</th>\n",
       "      <td>Candidate_51717</td>\n",
       "      <td>1</td>\n",
       "    </tr>\n",
       "    <tr>\n",
       "      <th>3</th>\n",
       "      <td>Candidate_26401</td>\n",
       "      <td>0</td>\n",
       "    </tr>\n",
       "    <tr>\n",
       "      <th>4</th>\n",
       "      <td>Candidate_34872</td>\n",
       "      <td>0</td>\n",
       "    </tr>\n",
       "  </tbody>\n",
       "</table>\n",
       "</div>"
      ],
      "text/plain": [
       "         Unique_ID  Dependent_Variable\n",
       "0   Candidate_5926                   1\n",
       "1  Candidate_48134                   0\n",
       "2  Candidate_51717                   1\n",
       "3  Candidate_26401                   0\n",
       "4  Candidate_34872                   0"
      ]
     },
     "execution_count": 24,
     "metadata": {},
     "output_type": "execute_result"
    }
   ],
   "source": [
    "y.head()"
   ]
  },
  {
   "cell_type": "code",
   "execution_count": 25,
   "metadata": {},
   "outputs": [],
   "source": [
    "train_data.drop('Unique_ID',inplace=True,axis=1)"
   ]
  },
  {
   "cell_type": "code",
   "execution_count": 26,
   "metadata": {},
   "outputs": [],
   "source": [
    "# Train-Test split\n",
    "X_train,X_test, y_train, y_test = train_test_split(train_data , y['Dependent_Variable'], stratify=y['Dependent_Variable'], test_size=0.3, random_state=42)"
   ]
  },
  {
   "cell_type": "markdown",
   "metadata": {},
   "source": [
    "### Build Random model to find the best features(Feature Selection) so for them we can perform Feature Engineering"
   ]
  },
  {
   "cell_type": "code",
   "execution_count": 27,
   "metadata": {},
   "outputs": [
    {
     "name": "stdout",
     "output_type": "stream",
     "text": [
      "Best HyperParameter:  {'max_features': 6, 'n_estimators': 300}\n"
     ]
    }
   ],
   "source": [
    "random_classifier = RandomForestClassifier()\n",
    "\n",
    "parameters = { 'max_features':np.arange(5,10),'n_estimators':[200,300,500]}\n",
    "\n",
    "random_grid = GridSearchCV(random_classifier, parameters, cv = 5) # Performing Grid Search to find the most optimal parameters\n",
    "\n",
    "random_grid.fit(X_train, y_train)\n",
    "\n",
    "print(\"Best HyperParameter: \",random_grid.best_params_)"
   ]
  },
  {
   "cell_type": "code",
   "execution_count": 28,
   "metadata": {},
   "outputs": [
    {
     "data": {
      "text/plain": [
       "RandomForestClassifier(bootstrap=True, class_weight='balanced',\n",
       "            criterion='entropy', max_depth=6, max_features='auto',\n",
       "            max_leaf_nodes=None, min_impurity_decrease=0.0,\n",
       "            min_impurity_split=None, min_samples_leaf=1,\n",
       "            min_samples_split=2, min_weight_fraction_leaf=0.0,\n",
       "            n_estimators=300, n_jobs=-1, oob_score=True, random_state=None,\n",
       "            verbose=0, warm_start=False)"
      ]
     },
     "execution_count": 28,
     "metadata": {},
     "output_type": "execute_result"
    }
   ],
   "source": [
    "rf_model = RandomForestClassifier(\n",
    "    n_estimators=300,\n",
    "    criterion='entropy',\n",
    "    max_depth=6,  \n",
    "    oob_score=True,   # estimate Out-of-Bag Cross Entropy\n",
    "    n_jobs=-1,   # paralellize over all CPU cores \n",
    "    class_weight='balanced')    # our classes are skewed\n",
    "\n",
    "\n",
    "rf_model.fit(X=X_train, y=y_train)"
   ]
  },
  {
   "cell_type": "code",
   "execution_count": 29,
   "metadata": {},
   "outputs": [
    {
     "data": {
      "text/plain": [
       "0.6931879655430481"
      ]
     },
     "execution_count": 29,
     "metadata": {},
     "output_type": "execute_result"
    }
   ],
   "source": [
    "#prdicting on train dataset\n",
    "rf_pred_probs=rf_model.predict(X_train)\n",
    "auc=metrics.roc_auc_score(y_train,rf_pred_probs)\n",
    "auc"
   ]
  },
  {
   "cell_type": "code",
   "execution_count": 30,
   "metadata": {},
   "outputs": [
    {
     "data": {
      "text/plain": [
       "0.6712886259485016"
      ]
     },
     "execution_count": 30,
     "metadata": {},
     "output_type": "execute_result"
    }
   ],
   "source": [
    "#prdicting on test dataset\n",
    "rf_pred_probs=rf_model.predict(X_test)\n",
    "auc=metrics.roc_auc_score(y_test,rf_pred_probs)\n",
    "auc"
   ]
  },
  {
   "cell_type": "code",
   "execution_count": 31,
   "metadata": {},
   "outputs": [
    {
     "data": {
      "text/html": [
       "<div>\n",
       "<style scoped>\n",
       "    .dataframe tbody tr th:only-of-type {\n",
       "        vertical-align: middle;\n",
       "    }\n",
       "\n",
       "    .dataframe tbody tr th {\n",
       "        vertical-align: top;\n",
       "    }\n",
       "\n",
       "    .dataframe thead th {\n",
       "        text-align: right;\n",
       "    }\n",
       "</style>\n",
       "<table border=\"1\" class=\"dataframe\">\n",
       "  <thead>\n",
       "    <tr style=\"text-align: right;\">\n",
       "      <th></th>\n",
       "      <th>importance</th>\n",
       "    </tr>\n",
       "  </thead>\n",
       "  <tbody>\n",
       "    <tr>\n",
       "      <th>N1</th>\n",
       "      <td>0.244362</td>\n",
       "    </tr>\n",
       "    <tr>\n",
       "      <th>N3</th>\n",
       "      <td>0.106459</td>\n",
       "    </tr>\n",
       "    <tr>\n",
       "      <th>N6</th>\n",
       "      <td>0.104842</td>\n",
       "    </tr>\n",
       "    <tr>\n",
       "      <th>N11</th>\n",
       "      <td>0.071627</td>\n",
       "    </tr>\n",
       "    <tr>\n",
       "      <th>N10.1</th>\n",
       "      <td>0.050100</td>\n",
       "    </tr>\n",
       "    <tr>\n",
       "      <th>N34</th>\n",
       "      <td>0.049574</td>\n",
       "    </tr>\n",
       "    <tr>\n",
       "      <th>N10</th>\n",
       "      <td>0.045342</td>\n",
       "    </tr>\n",
       "    <tr>\n",
       "      <th>N19</th>\n",
       "      <td>0.034812</td>\n",
       "    </tr>\n",
       "    <tr>\n",
       "      <th>N24</th>\n",
       "      <td>0.029010</td>\n",
       "    </tr>\n",
       "    <tr>\n",
       "      <th>N23</th>\n",
       "      <td>0.025899</td>\n",
       "    </tr>\n",
       "    <tr>\n",
       "      <th>N33</th>\n",
       "      <td>0.022371</td>\n",
       "    </tr>\n",
       "    <tr>\n",
       "      <th>C1</th>\n",
       "      <td>0.022179</td>\n",
       "    </tr>\n",
       "    <tr>\n",
       "      <th>C2</th>\n",
       "      <td>0.018137</td>\n",
       "    </tr>\n",
       "    <tr>\n",
       "      <th>N9</th>\n",
       "      <td>0.017002</td>\n",
       "    </tr>\n",
       "    <tr>\n",
       "      <th>N8</th>\n",
       "      <td>0.016630</td>\n",
       "    </tr>\n",
       "    <tr>\n",
       "      <th>C3</th>\n",
       "      <td>0.016408</td>\n",
       "    </tr>\n",
       "    <tr>\n",
       "      <th>N21</th>\n",
       "      <td>0.016363</td>\n",
       "    </tr>\n",
       "    <tr>\n",
       "      <th>N18</th>\n",
       "      <td>0.013808</td>\n",
       "    </tr>\n",
       "    <tr>\n",
       "      <th>C5</th>\n",
       "      <td>0.011278</td>\n",
       "    </tr>\n",
       "    <tr>\n",
       "      <th>C4</th>\n",
       "      <td>0.010640</td>\n",
       "    </tr>\n",
       "    <tr>\n",
       "      <th>N17</th>\n",
       "      <td>0.009167</td>\n",
       "    </tr>\n",
       "    <tr>\n",
       "      <th>N12</th>\n",
       "      <td>0.008922</td>\n",
       "    </tr>\n",
       "    <tr>\n",
       "      <th>N22</th>\n",
       "      <td>0.007165</td>\n",
       "    </tr>\n",
       "    <tr>\n",
       "      <th>N14</th>\n",
       "      <td>0.007028</td>\n",
       "    </tr>\n",
       "    <tr>\n",
       "      <th>C7</th>\n",
       "      <td>0.005933</td>\n",
       "    </tr>\n",
       "    <tr>\n",
       "      <th>N35</th>\n",
       "      <td>0.005333</td>\n",
       "    </tr>\n",
       "    <tr>\n",
       "      <th>N7</th>\n",
       "      <td>0.005181</td>\n",
       "    </tr>\n",
       "    <tr>\n",
       "      <th>N2</th>\n",
       "      <td>0.004838</td>\n",
       "    </tr>\n",
       "    <tr>\n",
       "      <th>N20</th>\n",
       "      <td>0.004681</td>\n",
       "    </tr>\n",
       "    <tr>\n",
       "      <th>N4</th>\n",
       "      <td>0.004428</td>\n",
       "    </tr>\n",
       "    <tr>\n",
       "      <th>N5</th>\n",
       "      <td>0.003682</td>\n",
       "    </tr>\n",
       "    <tr>\n",
       "      <th>N15</th>\n",
       "      <td>0.002650</td>\n",
       "    </tr>\n",
       "    <tr>\n",
       "      <th>C8_bool</th>\n",
       "      <td>0.002159</td>\n",
       "    </tr>\n",
       "    <tr>\n",
       "      <th>C6_bool</th>\n",
       "      <td>0.001716</td>\n",
       "    </tr>\n",
       "    <tr>\n",
       "      <th>N16</th>\n",
       "      <td>0.000275</td>\n",
       "    </tr>\n",
       "  </tbody>\n",
       "</table>\n",
       "</div>"
      ],
      "text/plain": [
       "         importance\n",
       "N1         0.244362\n",
       "N3         0.106459\n",
       "N6         0.104842\n",
       "N11        0.071627\n",
       "N10.1      0.050100\n",
       "N34        0.049574\n",
       "N10        0.045342\n",
       "N19        0.034812\n",
       "N24        0.029010\n",
       "N23        0.025899\n",
       "N33        0.022371\n",
       "C1         0.022179\n",
       "C2         0.018137\n",
       "N9         0.017002\n",
       "N8         0.016630\n",
       "C3         0.016408\n",
       "N21        0.016363\n",
       "N18        0.013808\n",
       "C5         0.011278\n",
       "C4         0.010640\n",
       "N17        0.009167\n",
       "N12        0.008922\n",
       "N22        0.007165\n",
       "N14        0.007028\n",
       "C7         0.005933\n",
       "N35        0.005333\n",
       "N7         0.005181\n",
       "N2         0.004838\n",
       "N20        0.004681\n",
       "N4         0.004428\n",
       "N5         0.003682\n",
       "N15        0.002650\n",
       "C8_bool    0.002159\n",
       "C6_bool    0.001716\n",
       "N16        0.000275"
      ]
     },
     "execution_count": 31,
     "metadata": {},
     "output_type": "execute_result"
    }
   ],
   "source": [
    "# feature importances with their relative importance\n",
    "feature_importances = pd.DataFrame(rf_model.feature_importances_,\n",
    "                                   index = X_train.columns,\n",
    "                                    columns=['importance']).sort_values('importance',ascending=False)\n",
    "feature_importances"
   ]
  },
  {
   "cell_type": "code",
   "execution_count": 32,
   "metadata": {},
   "outputs": [
    {
     "data": {
      "text/plain": [
       "Index(['N1', 'N3', 'N6', 'N11', 'N10.1', 'N34', 'N10', 'N19', 'N24', 'N23',\n",
       "       'N33', 'C1', 'C2', 'N9', 'N8', 'C3', 'N21', 'N18', 'C5', 'C4', 'N17',\n",
       "       'N12', 'N22', 'N14', 'C7', 'N35', 'N7', 'N2', 'N20', 'N4', 'N5', 'N15',\n",
       "       'C8_bool', 'C6_bool', 'N16'],\n",
       "      dtype='object')"
      ]
     },
     "execution_count": 32,
     "metadata": {},
     "output_type": "execute_result"
    }
   ],
   "source": [
    "feature_importances.index"
   ]
  },
  {
   "cell_type": "code",
   "execution_count": 37,
   "metadata": {},
   "outputs": [],
   "source": [
    "# Taking the top most 30 useful features based on their importance\n",
    "data=train_data[['N1', 'N3', 'N6', 'N11', 'N10.1', 'N34', 'N10', 'N19', 'N24', 'N23',\n",
    "       'N33', 'C1', 'C2', 'N9', 'N8', 'C3', 'N21', 'N18', 'C5', 'C4', 'N17',\n",
    "       'N12', 'N22', 'N14', 'C7', 'N35', 'N7', 'N2', 'N20', 'N4']]"
   ]
  },
  {
   "cell_type": "code",
   "execution_count": 38,
   "metadata": {},
   "outputs": [
    {
     "data": {
      "text/plain": [
       "(33050, 30)"
      ]
     },
     "execution_count": 38,
     "metadata": {},
     "output_type": "execute_result"
    }
   ],
   "source": [
    "data.shape"
   ]
  },
  {
   "cell_type": "code",
   "execution_count": 39,
   "metadata": {},
   "outputs": [
    {
     "data": {
      "image/png": "[encoded data removed]",
      "text/plain": [
       "<Figure size 1080x864 with 2 Axes>"
      ]
     },
     "metadata": {
      "needs_background": "light"
     },
     "output_type": "display_data"
    }
   ],
   "source": [
    "# Checking feature dependency on other features by plotting heatmap of all features\n",
    "names = data.columns\n",
    "correlations = data.corr()\n",
    "# plot correlation matrix\n",
    "plt.rcParams['figure.figsize'] = (15,12)\n",
    "fig = plt.figure()\n",
    "ax = fig.add_subplot(111)\n",
    "cax = ax.matshow(correlations, vmin=-1, vmax=1, cmap=\"BuPu\")\n",
    "fig.colorbar(cax)\n",
    "ticks = np.arange(0,30,1)\n",
    "ax.set_xticks(ticks)\n",
    "ax.set_yticks(ticks)\n",
    "ax.set_xticklabels(names, rotation=90)\n",
    "ax.set_yticklabels(names)\n",
    "plt.show()"
   ]
  },
  {
   "cell_type": "markdown",
   "metadata": {},
   "source": [
    "* Here, we see features N11 and N10.1 are correlated with each other so will we use either one of them for modelling.\n",
    "* Similarly, fearures N33 and N34 are correlated with each other so remove either of them based on their importance.\n",
    "* Similarly, fearures N3 and N6 are correlated with each other so remove either of them based on their importance."
   ]
  },
  {
   "cell_type": "code",
   "execution_count": 40,
   "metadata": {},
   "outputs": [
    {
     "name": "stderr",
     "output_type": "stream",
     "text": [
      "C:\\Users\\abc\\Anaconda3\\lib\\site-packages\\pandas\\core\\frame.py:3940: SettingWithCopyWarning: \n",
      "A value is trying to be set on a copy of a slice from a DataFrame\n",
      "\n",
      "See the caveats in the documentation: http://pandas.pydata.org/pandas-docs/stable/indexing.html#indexing-view-versus-copy\n",
      "  errors=errors)\n"
     ]
    }
   ],
   "source": [
    "# dropping the redundant features\n",
    "data.drop('N10.1',axis=1,inplace=True)\n",
    "data.drop('N33',axis=1,inplace=True)\n",
    "data.drop('N6',axis=1,inplace=True)"
   ]
  },
  {
   "cell_type": "code",
   "execution_count": 44,
   "metadata": {},
   "outputs": [
    {
     "name": "stderr",
     "output_type": "stream",
     "text": [
      "C:\\Users\\abc\\Anaconda3\\lib\\site-packages\\ipykernel_launcher.py:6: SettingWithCopyWarning: \n",
      "A value is trying to be set on a copy of a slice from a DataFrame.\n",
      "Try using .loc[row_indexer,col_indexer] = value instead\n",
      "\n",
      "See the caveats in the documentation: http://pandas.pydata.org/pandas-docs/stable/indexing.html#indexing-view-versus-copy\n",
      "  \n"
     ]
    }
   ],
   "source": [
    "# performing feature engineering by binning real valued features using Decision tree\n",
    "tree_model = DecisionTreeClassifier(max_depth=2)\n",
    "tree_model.fit(data.N3.to_frame(), y['Dependent_Variable'])\n",
    "data['N3_tree']=tree_model.predict_proba(data.N3.to_frame())[:,1]"
   ]
  },
  {
   "cell_type": "code",
   "execution_count": 45,
   "metadata": {},
   "outputs": [
    {
     "data": {
      "text/plain": [
       "array([0.61048544, 0.16240461, 0.3016811 , 0.44401659])"
      ]
     },
     "execution_count": 45,
     "metadata": {},
     "output_type": "execute_result"
    }
   ],
   "source": [
    "data['N3_tree'].unique()"
   ]
  },
  {
   "cell_type": "code",
   "execution_count": 46,
   "metadata": {},
   "outputs": [
    {
     "data": {
      "text/html": [
       "<div>\n",
       "<style scoped>\n",
       "    .dataframe tbody tr th:only-of-type {\n",
       "        vertical-align: middle;\n",
       "    }\n",
       "\n",
       "    .dataframe tbody tr th {\n",
       "        vertical-align: top;\n",
       "    }\n",
       "\n",
       "    .dataframe thead th {\n",
       "        text-align: right;\n",
       "    }\n",
       "</style>\n",
       "<table border=\"1\" class=\"dataframe\">\n",
       "  <thead>\n",
       "    <tr style=\"text-align: right;\">\n",
       "      <th></th>\n",
       "      <th>N3</th>\n",
       "      <th>N3</th>\n",
       "    </tr>\n",
       "    <tr>\n",
       "      <th>N3_tree</th>\n",
       "      <th></th>\n",
       "      <th></th>\n",
       "    </tr>\n",
       "  </thead>\n",
       "  <tbody>\n",
       "    <tr>\n",
       "      <th>0.162405</th>\n",
       "      <td>3.7</td>\n",
       "      <td>4.4</td>\n",
       "    </tr>\n",
       "    <tr>\n",
       "      <th>0.301681</th>\n",
       "      <td>3.1</td>\n",
       "      <td>3.6</td>\n",
       "    </tr>\n",
       "    <tr>\n",
       "      <th>0.444017</th>\n",
       "      <td>2.8</td>\n",
       "      <td>3.0</td>\n",
       "    </tr>\n",
       "    <tr>\n",
       "      <th>0.610485</th>\n",
       "      <td>0.0</td>\n",
       "      <td>2.7</td>\n",
       "    </tr>\n",
       "  </tbody>\n",
       "</table>\n",
       "</div>"
      ],
      "text/plain": [
       "           N3   N3\n",
       "N3_tree           \n",
       "0.162405  3.7  4.4\n",
       "0.301681  3.1  3.6\n",
       "0.444017  2.8  3.0\n",
       "0.610485  0.0  2.7"
      ]
     },
     "execution_count": 46,
     "metadata": {},
     "output_type": "execute_result"
    }
   ],
   "source": [
    "pd.concat([data.groupby(['N3_tree'])['N3'].min(),\n",
    "            data.groupby(['N3_tree'])['N3'].max()], axis=1)"
   ]
  },
  {
   "cell_type": "code",
   "execution_count": 47,
   "metadata": {},
   "outputs": [
    {
     "name": "stderr",
     "output_type": "stream",
     "text": [
      "C:\\Users\\abc\\Anaconda3\\lib\\site-packages\\ipykernel_launcher.py:5: SettingWithCopyWarning: \n",
      "A value is trying to be set on a copy of a slice from a DataFrame.\n",
      "Try using .loc[row_indexer,col_indexer] = value instead\n",
      "\n",
      "See the caveats in the documentation: http://pandas.pydata.org/pandas-docs/stable/indexing.html#indexing-view-versus-copy\n",
      "  \"\"\"\n"
     ]
    }
   ],
   "source": [
    "bin_ranges = [0,1,2,3,4,5]\n",
    "bin_names = [1, 2, 3, 4,5]\n",
    "data['N3_label'] = pd.cut(np.array(data['N3']), \n",
    "                                              bins=bin_ranges,            \n",
    "                                              labels=bin_names)"
   ]
  },
  {
   "cell_type": "code",
   "execution_count": 48,
   "metadata": {},
   "outputs": [
    {
     "name": "stderr",
     "output_type": "stream",
     "text": [
      "C:\\Users\\abc\\Anaconda3\\lib\\site-packages\\pandas\\core\\frame.py:3940: SettingWithCopyWarning: \n",
      "A value is trying to be set on a copy of a slice from a DataFrame\n",
      "\n",
      "See the caveats in the documentation: http://pandas.pydata.org/pandas-docs/stable/indexing.html#indexing-view-versus-copy\n",
      "  errors=errors)\n"
     ]
    }
   ],
   "source": [
    "data.drop('N3_tree',axis=1,inplace=True)"
   ]
  },
  {
   "cell_type": "code",
   "execution_count": 49,
   "metadata": {},
   "outputs": [
    {
     "name": "stderr",
     "output_type": "stream",
     "text": [
      "C:\\Users\\abc\\Anaconda3\\lib\\site-packages\\ipykernel_launcher.py:3: SettingWithCopyWarning: \n",
      "A value is trying to be set on a copy of a slice from a DataFrame.\n",
      "Try using .loc[row_indexer,col_indexer] = value instead\n",
      "\n",
      "See the caveats in the documentation: http://pandas.pydata.org/pandas-docs/stable/indexing.html#indexing-view-versus-copy\n",
      "  This is separate from the ipykernel package so we can avoid doing imports until\n"
     ]
    },
    {
     "data": {
      "text/plain": [
       "array([0.4360098 , 0.19593709, 0.31791908, 0.07188841])"
      ]
     },
     "execution_count": 49,
     "metadata": {},
     "output_type": "execute_result"
    }
   ],
   "source": [
    "tree_model = DecisionTreeClassifier(max_depth=2)\n",
    "tree_model.fit(data.N1.to_frame(), y['Dependent_Variable'])\n",
    "data['N1_tree']=tree_model.predict_proba(data.N1.to_frame())[:,1]\n",
    "data['N1_tree'].unique()"
   ]
  },
  {
   "cell_type": "code",
   "execution_count": 50,
   "metadata": {},
   "outputs": [
    {
     "data": {
      "text/html": [
       "<div>\n",
       "<style scoped>\n",
       "    .dataframe tbody tr th:only-of-type {\n",
       "        vertical-align: middle;\n",
       "    }\n",
       "\n",
       "    .dataframe tbody tr th {\n",
       "        vertical-align: top;\n",
       "    }\n",
       "\n",
       "    .dataframe thead th {\n",
       "        text-align: right;\n",
       "    }\n",
       "</style>\n",
       "<table border=\"1\" class=\"dataframe\">\n",
       "  <thead>\n",
       "    <tr style=\"text-align: right;\">\n",
       "      <th></th>\n",
       "      <th>N1</th>\n",
       "      <th>N1</th>\n",
       "    </tr>\n",
       "    <tr>\n",
       "      <th>N1_tree</th>\n",
       "      <th></th>\n",
       "      <th></th>\n",
       "    </tr>\n",
       "  </thead>\n",
       "  <tbody>\n",
       "    <tr>\n",
       "      <th>0.071888</th>\n",
       "      <td>0.00</td>\n",
       "      <td>10.35</td>\n",
       "    </tr>\n",
       "    <tr>\n",
       "      <th>0.195937</th>\n",
       "      <td>10.36</td>\n",
       "      <td>14.99</td>\n",
       "    </tr>\n",
       "    <tr>\n",
       "      <th>0.317919</th>\n",
       "      <td>15.00</td>\n",
       "      <td>21.99</td>\n",
       "    </tr>\n",
       "    <tr>\n",
       "      <th>0.436010</th>\n",
       "      <td>22.00</td>\n",
       "      <td>48.00</td>\n",
       "    </tr>\n",
       "  </tbody>\n",
       "</table>\n",
       "</div>"
      ],
      "text/plain": [
       "             N1     N1\n",
       "N1_tree               \n",
       "0.071888   0.00  10.35\n",
       "0.195937  10.36  14.99\n",
       "0.317919  15.00  21.99\n",
       "0.436010  22.00  48.00"
      ]
     },
     "execution_count": 50,
     "metadata": {},
     "output_type": "execute_result"
    }
   ],
   "source": [
    "pd.concat([data.groupby(['N1_tree'])['N1'].min(),\n",
    "            data.groupby(['N1_tree'])['N1'].max()], axis=1)"
   ]
  },
  {
   "cell_type": "code",
   "execution_count": 51,
   "metadata": {},
   "outputs": [
    {
     "name": "stderr",
     "output_type": "stream",
     "text": [
      "C:\\Users\\abc\\Anaconda3\\lib\\site-packages\\ipykernel_launcher.py:5: SettingWithCopyWarning: \n",
      "A value is trying to be set on a copy of a slice from a DataFrame.\n",
      "Try using .loc[row_indexer,col_indexer] = value instead\n",
      "\n",
      "See the caveats in the documentation: http://pandas.pydata.org/pandas-docs/stable/indexing.html#indexing-view-versus-copy\n",
      "  \"\"\"\n"
     ]
    }
   ],
   "source": [
    "bin_ranges = [0,10,14,15,21,22,48]\n",
    "bin_names = [1, 2, 3, 4,5,6]\n",
    "data['N1_label'] = pd.cut(np.array(data['N1']), \n",
    "                                              bins=bin_ranges,            \n",
    "                                              labels=bin_names)"
   ]
  },
  {
   "cell_type": "code",
   "execution_count": 52,
   "metadata": {},
   "outputs": [
    {
     "name": "stderr",
     "output_type": "stream",
     "text": [
      "C:\\Users\\abc\\Anaconda3\\lib\\site-packages\\pandas\\core\\frame.py:3940: SettingWithCopyWarning: \n",
      "A value is trying to be set on a copy of a slice from a DataFrame\n",
      "\n",
      "See the caveats in the documentation: http://pandas.pydata.org/pandas-docs/stable/indexing.html#indexing-view-versus-copy\n",
      "  errors=errors)\n"
     ]
    }
   ],
   "source": [
    "data.drop('N1_tree',axis=1,inplace=True)"
   ]
  },
  {
   "cell_type": "code",
   "execution_count": 56,
   "metadata": {},
   "outputs": [
    {
     "name": "stderr",
     "output_type": "stream",
     "text": [
      "C:\\Users\\abc\\Anaconda3\\lib\\site-packages\\ipykernel_launcher.py:3: SettingWithCopyWarning: \n",
      "A value is trying to be set on a copy of a slice from a DataFrame.\n",
      "Try using .loc[row_indexer,col_indexer] = value instead\n",
      "\n",
      "See the caveats in the documentation: http://pandas.pydata.org/pandas-docs/stable/indexing.html#indexing-view-versus-copy\n",
      "  This is separate from the ipykernel package so we can avoid doing imports until\n"
     ]
    },
    {
     "data": {
      "text/plain": [
       "array([0.3103335 , 0.44082918, 0.24070553, 0.59371555])"
      ]
     },
     "execution_count": 56,
     "metadata": {},
     "output_type": "execute_result"
    }
   ],
   "source": [
    "tree_model = DecisionTreeClassifier(max_depth=2)\n",
    "tree_model.fit(data.N11.to_frame(), y['Dependent_Variable'])\n",
    "data['N11_tree']=tree_model.predict_proba(data.N11.to_frame())[:,1]\n",
    "data['N11_tree'].unique()"
   ]
  },
  {
   "cell_type": "code",
   "execution_count": 58,
   "metadata": {},
   "outputs": [
    {
     "data": {
      "text/html": [
       "<div>\n",
       "<style scoped>\n",
       "    .dataframe tbody tr th:only-of-type {\n",
       "        vertical-align: middle;\n",
       "    }\n",
       "\n",
       "    .dataframe tbody tr th {\n",
       "        vertical-align: top;\n",
       "    }\n",
       "\n",
       "    .dataframe thead th {\n",
       "        text-align: right;\n",
       "    }\n",
       "</style>\n",
       "<table border=\"1\" class=\"dataframe\">\n",
       "  <thead>\n",
       "    <tr style=\"text-align: right;\">\n",
       "      <th></th>\n",
       "      <th>N11</th>\n",
       "      <th>N11</th>\n",
       "    </tr>\n",
       "    <tr>\n",
       "      <th>N11_tree</th>\n",
       "      <th></th>\n",
       "      <th></th>\n",
       "    </tr>\n",
       "  </thead>\n",
       "  <tbody>\n",
       "    <tr>\n",
       "      <th>0.240706</th>\n",
       "      <td>0.0</td>\n",
       "      <td>4.0</td>\n",
       "    </tr>\n",
       "    <tr>\n",
       "      <th>0.310333</th>\n",
       "      <td>5.0</td>\n",
       "      <td>11.0</td>\n",
       "    </tr>\n",
       "    <tr>\n",
       "      <th>0.440829</th>\n",
       "      <td>12.0</td>\n",
       "      <td>20.0</td>\n",
       "    </tr>\n",
       "    <tr>\n",
       "      <th>0.593716</th>\n",
       "      <td>21.0</td>\n",
       "      <td>379.0</td>\n",
       "    </tr>\n",
       "  </tbody>\n",
       "</table>\n",
       "</div>"
      ],
      "text/plain": [
       "           N11    N11\n",
       "N11_tree             \n",
       "0.240706   0.0    4.0\n",
       "0.310333   5.0   11.0\n",
       "0.440829  12.0   20.0\n",
       "0.593716  21.0  379.0"
      ]
     },
     "execution_count": 58,
     "metadata": {},
     "output_type": "execute_result"
    }
   ],
   "source": [
    "pd.concat([data.groupby(['N11_tree'])['N11'].min(),\n",
    "            data.groupby(['N11_tree'])['N11'].max()], axis=1)"
   ]
  },
  {
   "cell_type": "code",
   "execution_count": 59,
   "metadata": {},
   "outputs": [
    {
     "name": "stderr",
     "output_type": "stream",
     "text": [
      "C:\\Users\\abc\\Anaconda3\\lib\\site-packages\\ipykernel_launcher.py:5: SettingWithCopyWarning: \n",
      "A value is trying to be set on a copy of a slice from a DataFrame.\n",
      "Try using .loc[row_indexer,col_indexer] = value instead\n",
      "\n",
      "See the caveats in the documentation: http://pandas.pydata.org/pandas-docs/stable/indexing.html#indexing-view-versus-copy\n",
      "  \"\"\"\n"
     ]
    }
   ],
   "source": [
    "bin_ranges = [0,4,5,11,12,20,21,379]\n",
    "bin_names = [1, 2, 3, 4,5,6,7]\n",
    "data['N11_label'] = pd.cut(np.array(data['N11']), \n",
    "                                              bins=bin_ranges,            \n",
    "                                              labels=bin_names)"
   ]
  },
  {
   "cell_type": "code",
   "execution_count": 60,
   "metadata": {},
   "outputs": [
    {
     "name": "stderr",
     "output_type": "stream",
     "text": [
      "C:\\Users\\abc\\Anaconda3\\lib\\site-packages\\pandas\\core\\frame.py:3940: SettingWithCopyWarning: \n",
      "A value is trying to be set on a copy of a slice from a DataFrame\n",
      "\n",
      "See the caveats in the documentation: http://pandas.pydata.org/pandas-docs/stable/indexing.html#indexing-view-versus-copy\n",
      "  errors=errors)\n"
     ]
    }
   ],
   "source": [
    "data.drop('N11_tree',axis=1,inplace=True)"
   ]
  },
  {
   "cell_type": "code",
   "execution_count": 62,
   "metadata": {},
   "outputs": [
    {
     "name": "stderr",
     "output_type": "stream",
     "text": [
      "C:\\Users\\abc\\Anaconda3\\lib\\site-packages\\ipykernel_launcher.py:3: SettingWithCopyWarning: \n",
      "A value is trying to be set on a copy of a slice from a DataFrame.\n",
      "Try using .loc[row_indexer,col_indexer] = value instead\n",
      "\n",
      "See the caveats in the documentation: http://pandas.pydata.org/pandas-docs/stable/indexing.html#indexing-view-versus-copy\n",
      "  This is separate from the ipykernel package so we can avoid doing imports until\n"
     ]
    },
    {
     "data": {
      "text/plain": [
       "array([0.31451535, 0.14041096, 0.08031088, 0.47368421])"
      ]
     },
     "execution_count": 62,
     "metadata": {},
     "output_type": "execute_result"
    }
   ],
   "source": [
    "tree_model = DecisionTreeClassifier(max_depth=2)\n",
    "tree_model.fit(data.N34.to_frame(), y['Dependent_Variable'])\n",
    "data['N34_tree']=tree_model.predict_proba(data.N34.to_frame())[:,1]\n",
    "data['N34_tree'].unique()"
   ]
  },
  {
   "cell_type": "code",
   "execution_count": 63,
   "metadata": {},
   "outputs": [
    {
     "data": {
      "text/html": [
       "<div>\n",
       "<style scoped>\n",
       "    .dataframe tbody tr th:only-of-type {\n",
       "        vertical-align: middle;\n",
       "    }\n",
       "\n",
       "    .dataframe tbody tr th {\n",
       "        vertical-align: top;\n",
       "    }\n",
       "\n",
       "    .dataframe thead th {\n",
       "        text-align: right;\n",
       "    }\n",
       "</style>\n",
       "<table border=\"1\" class=\"dataframe\">\n",
       "  <thead>\n",
       "    <tr style=\"text-align: right;\">\n",
       "      <th></th>\n",
       "      <th>N34</th>\n",
       "      <th>N34</th>\n",
       "    </tr>\n",
       "    <tr>\n",
       "      <th>N34_tree</th>\n",
       "      <th></th>\n",
       "      <th></th>\n",
       "    </tr>\n",
       "  </thead>\n",
       "  <tbody>\n",
       "    <tr>\n",
       "      <th>0.080311</th>\n",
       "      <td>7.58</td>\n",
       "      <td>34.56</td>\n",
       "    </tr>\n",
       "    <tr>\n",
       "      <th>0.140411</th>\n",
       "      <td>0.00</td>\n",
       "      <td>6.79</td>\n",
       "    </tr>\n",
       "    <tr>\n",
       "      <th>0.314515</th>\n",
       "      <td>34.57</td>\n",
       "      <td>837.86</td>\n",
       "    </tr>\n",
       "    <tr>\n",
       "      <th>0.473684</th>\n",
       "      <td>838.11</td>\n",
       "      <td>2153.38</td>\n",
       "    </tr>\n",
       "  </tbody>\n",
       "</table>\n",
       "</div>"
      ],
      "text/plain": [
       "             N34      N34\n",
       "N34_tree                 \n",
       "0.080311    7.58    34.56\n",
       "0.140411    0.00     6.79\n",
       "0.314515   34.57   837.86\n",
       "0.473684  838.11  2153.38"
      ]
     },
     "execution_count": 63,
     "metadata": {},
     "output_type": "execute_result"
    }
   ],
   "source": [
    "pd.concat([data.groupby(['N34_tree'])['N34'].min(),\n",
    "            data.groupby(['N34_tree'])['N34'].max()], axis=1)"
   ]
  },
  {
   "cell_type": "code",
   "execution_count": 64,
   "metadata": {},
   "outputs": [
    {
     "name": "stderr",
     "output_type": "stream",
     "text": [
      "C:\\Users\\abc\\Anaconda3\\lib\\site-packages\\ipykernel_launcher.py:5: SettingWithCopyWarning: \n",
      "A value is trying to be set on a copy of a slice from a DataFrame.\n",
      "Try using .loc[row_indexer,col_indexer] = value instead\n",
      "\n",
      "See the caveats in the documentation: http://pandas.pydata.org/pandas-docs/stable/indexing.html#indexing-view-versus-copy\n",
      "  \"\"\"\n"
     ]
    }
   ],
   "source": [
    "bin_ranges = [0,6,7,34,837,838,2153]\n",
    "bin_names = [1, 2, 3, 4,5,6]\n",
    "data['N34_label'] = pd.cut(np.array(data['N34']), \n",
    "                                              bins=bin_ranges,            \n",
    "                                              labels=bin_names)"
   ]
  },
  {
   "cell_type": "code",
   "execution_count": 65,
   "metadata": {},
   "outputs": [
    {
     "name": "stderr",
     "output_type": "stream",
     "text": [
      "C:\\Users\\abc\\Anaconda3\\lib\\site-packages\\pandas\\core\\frame.py:3940: SettingWithCopyWarning: \n",
      "A value is trying to be set on a copy of a slice from a DataFrame\n",
      "\n",
      "See the caveats in the documentation: http://pandas.pydata.org/pandas-docs/stable/indexing.html#indexing-view-versus-copy\n",
      "  errors=errors)\n"
     ]
    }
   ],
   "source": [
    "data.drop('N34_tree',axis=1,inplace=True)"
   ]
  },
  {
   "cell_type": "code",
   "execution_count": 69,
   "metadata": {},
   "outputs": [
    {
     "name": "stderr",
     "output_type": "stream",
     "text": [
      "C:\\Users\\abc\\Anaconda3\\lib\\site-packages\\ipykernel_launcher.py:3: SettingWithCopyWarning: \n",
      "A value is trying to be set on a copy of a slice from a DataFrame.\n",
      "Try using .loc[row_indexer,col_indexer] = value instead\n",
      "\n",
      "See the caveats in the documentation: http://pandas.pydata.org/pandas-docs/stable/indexing.html#indexing-view-versus-copy\n",
      "  This is separate from the ipykernel package so we can avoid doing imports until\n"
     ]
    },
    {
     "data": {
      "text/plain": [
       "array([0.34667025, 0.1688343 , 0.25503289, 0.44909274])"
      ]
     },
     "execution_count": 69,
     "metadata": {},
     "output_type": "execute_result"
    }
   ],
   "source": [
    "tree_model = DecisionTreeClassifier(max_depth=2)\n",
    "tree_model.fit(data.N19.to_frame(), y['Dependent_Variable'])\n",
    "data['N19_tree']=tree_model.predict_proba(data.N19.to_frame())[:,1]\n",
    "data['N19_tree'].unique()"
   ]
  },
  {
   "cell_type": "code",
   "execution_count": 70,
   "metadata": {},
   "outputs": [
    {
     "data": {
      "text/html": [
       "<div>\n",
       "<style scoped>\n",
       "    .dataframe tbody tr th:only-of-type {\n",
       "        vertical-align: middle;\n",
       "    }\n",
       "\n",
       "    .dataframe tbody tr th {\n",
       "        vertical-align: top;\n",
       "    }\n",
       "\n",
       "    .dataframe thead th {\n",
       "        text-align: right;\n",
       "    }\n",
       "</style>\n",
       "<table border=\"1\" class=\"dataframe\">\n",
       "  <thead>\n",
       "    <tr style=\"text-align: right;\">\n",
       "      <th></th>\n",
       "      <th>N19</th>\n",
       "      <th>N19</th>\n",
       "    </tr>\n",
       "    <tr>\n",
       "      <th>N19_tree</th>\n",
       "      <th></th>\n",
       "      <th></th>\n",
       "    </tr>\n",
       "  </thead>\n",
       "  <tbody>\n",
       "    <tr>\n",
       "      <th>0.168834</th>\n",
       "      <td>22064.0</td>\n",
       "      <td>646285.0</td>\n",
       "    </tr>\n",
       "    <tr>\n",
       "      <th>0.255033</th>\n",
       "      <td>3383.0</td>\n",
       "      <td>22061.0</td>\n",
       "    </tr>\n",
       "    <tr>\n",
       "      <th>0.346670</th>\n",
       "      <td>116.0</td>\n",
       "      <td>3382.0</td>\n",
       "    </tr>\n",
       "    <tr>\n",
       "      <th>0.449093</th>\n",
       "      <td>0.0</td>\n",
       "      <td>115.0</td>\n",
       "    </tr>\n",
       "  </tbody>\n",
       "</table>\n",
       "</div>"
      ],
      "text/plain": [
       "              N19       N19\n",
       "N19_tree                   \n",
       "0.168834  22064.0  646285.0\n",
       "0.255033   3383.0   22061.0\n",
       "0.346670    116.0    3382.0\n",
       "0.449093      0.0     115.0"
      ]
     },
     "execution_count": 70,
     "metadata": {},
     "output_type": "execute_result"
    }
   ],
   "source": [
    "pd.concat([data.groupby(['N19_tree'])['N19'].min(),\n",
    "            data.groupby(['N19_tree'])['N19'].max()], axis=1)"
   ]
  },
  {
   "cell_type": "code",
   "execution_count": 71,
   "metadata": {},
   "outputs": [
    {
     "name": "stderr",
     "output_type": "stream",
     "text": [
      "C:\\Users\\abc\\Anaconda3\\lib\\site-packages\\ipykernel_launcher.py:5: SettingWithCopyWarning: \n",
      "A value is trying to be set on a copy of a slice from a DataFrame.\n",
      "Try using .loc[row_indexer,col_indexer] = value instead\n",
      "\n",
      "See the caveats in the documentation: http://pandas.pydata.org/pandas-docs/stable/indexing.html#indexing-view-versus-copy\n",
      "  \"\"\"\n"
     ]
    }
   ],
   "source": [
    "bin_ranges = [0,115,116,3382,3383,22061,22064,646285]\n",
    "bin_names = [1, 2, 3, 4,5,6,7]\n",
    "data['N19_label'] = pd.cut(np.array(data['N19']), \n",
    "                                              bins=bin_ranges,            \n",
    "                                              labels=bin_names)"
   ]
  },
  {
   "cell_type": "code",
   "execution_count": 72,
   "metadata": {},
   "outputs": [
    {
     "name": "stderr",
     "output_type": "stream",
     "text": [
      "C:\\Users\\abc\\Anaconda3\\lib\\site-packages\\pandas\\core\\frame.py:3940: SettingWithCopyWarning: \n",
      "A value is trying to be set on a copy of a slice from a DataFrame\n",
      "\n",
      "See the caveats in the documentation: http://pandas.pydata.org/pandas-docs/stable/indexing.html#indexing-view-versus-copy\n",
      "  errors=errors)\n"
     ]
    }
   ],
   "source": [
    "data.drop('N19_tree',axis=1,inplace=True)"
   ]
  },
  {
   "cell_type": "code",
   "execution_count": 73,
   "metadata": {},
   "outputs": [],
   "source": [
    "data.drop('N1',axis=1,inplace=True)\n",
    "data.drop('N3',axis=1,inplace=True)\n",
    "data.drop('N11',axis=1,inplace=True)\n",
    "data.drop('N34',axis=1,inplace=True)\n",
    "data.drop('N19',axis=1,inplace=True)"
   ]
  },
  {
   "cell_type": "code",
   "execution_count": 121,
   "metadata": {},
   "outputs": [
    {
     "data": {
      "text/plain": [
       "Series([], dtype: int64)"
      ]
     },
     "execution_count": 121,
     "metadata": {},
     "output_type": "execute_result"
    }
   ],
   "source": [
    "nulls = data.isnull().sum()\n",
    "nulls[nulls > 0]"
   ]
  },
  {
   "cell_type": "code",
   "execution_count": 76,
   "metadata": {},
   "outputs": [
    {
     "name": "stderr",
     "output_type": "stream",
     "text": [
      "C:\\Users\\abc\\Anaconda3\\lib\\site-packages\\pandas\\core\\generic.py:6130: SettingWithCopyWarning: \n",
      "A value is trying to be set on a copy of a slice from a DataFrame\n",
      "\n",
      "See the caveats in the documentation: http://pandas.pydata.org/pandas-docs/stable/indexing.html#indexing-view-versus-copy\n",
      "  self._update_inplace(new_data)\n"
     ]
    }
   ],
   "source": [
    "#filling the nan value in bin columns with the most occuring bin label\n",
    "data.N1_label.fillna(data.N1_label.mode()[0],inplace=True)\n",
    "data.N3_label.fillna(data.N3_label.mode()[0],inplace=True)\n",
    "data.N11_label.fillna(data.N11_label.mode()[0],inplace=True)\n",
    "data.N34_label.fillna(data.N34_label.mode()[0],inplace=True)\n",
    "data.N19_label.fillna(data.N19_label.mode()[0],inplace=True)"
   ]
  },
  {
   "cell_type": "code",
   "execution_count": 176,
   "metadata": {},
   "outputs": [
    {
     "data": {
      "text/html": [
       "<div>\n",
       "<style scoped>\n",
       "    .dataframe tbody tr th:only-of-type {\n",
       "        vertical-align: middle;\n",
       "    }\n",
       "\n",
       "    .dataframe tbody tr th {\n",
       "        vertical-align: top;\n",
       "    }\n",
       "\n",
       "    .dataframe thead th {\n",
       "        text-align: right;\n",
       "    }\n",
       "</style>\n",
       "<table border=\"1\" class=\"dataframe\">\n",
       "  <thead>\n",
       "    <tr style=\"text-align: right;\">\n",
       "      <th></th>\n",
       "      <th>N10</th>\n",
       "      <th>N24</th>\n",
       "      <th>N23</th>\n",
       "      <th>C1</th>\n",
       "      <th>C2</th>\n",
       "      <th>N9</th>\n",
       "      <th>N8</th>\n",
       "      <th>C3</th>\n",
       "      <th>N21</th>\n",
       "      <th>N18</th>\n",
       "      <th>...</th>\n",
       "      <th>N35</th>\n",
       "      <th>N7</th>\n",
       "      <th>N2</th>\n",
       "      <th>N20</th>\n",
       "      <th>N4</th>\n",
       "      <th>N3_label</th>\n",
       "      <th>N1_label</th>\n",
       "      <th>N11_label</th>\n",
       "      <th>N34_label</th>\n",
       "      <th>N19_label</th>\n",
       "    </tr>\n",
       "  </thead>\n",
       "  <tbody>\n",
       "    <tr>\n",
       "      <th>0</th>\n",
       "      <td>2.0</td>\n",
       "      <td>1750.000000</td>\n",
       "      <td>27.816</td>\n",
       "      <td>1</td>\n",
       "      <td>0</td>\n",
       "      <td>0</td>\n",
       "      <td>0</td>\n",
       "      <td>11</td>\n",
       "      <td>0.92</td>\n",
       "      <td>0.56</td>\n",
       "      <td>...</td>\n",
       "      <td>12.0</td>\n",
       "      <td>10.0</td>\n",
       "      <td>53.0</td>\n",
       "      <td>20.0</td>\n",
       "      <td>9.0</td>\n",
       "      <td>3</td>\n",
       "      <td>6</td>\n",
       "      <td>2</td>\n",
       "      <td>4</td>\n",
       "      <td>3</td>\n",
       "    </tr>\n",
       "    <tr>\n",
       "      <th>1</th>\n",
       "      <td>0.0</td>\n",
       "      <td>10833.333330</td>\n",
       "      <td>40.000</td>\n",
       "      <td>1</td>\n",
       "      <td>4</td>\n",
       "      <td>72</td>\n",
       "      <td>4</td>\n",
       "      <td>2</td>\n",
       "      <td>0.88</td>\n",
       "      <td>0.06</td>\n",
       "      <td>...</td>\n",
       "      <td>17.0</td>\n",
       "      <td>19.0</td>\n",
       "      <td>22.0</td>\n",
       "      <td>17.0</td>\n",
       "      <td>16.0</td>\n",
       "      <td>4</td>\n",
       "      <td>2</td>\n",
       "      <td>3</td>\n",
       "      <td>4</td>\n",
       "      <td>7</td>\n",
       "    </tr>\n",
       "    <tr>\n",
       "      <th>2</th>\n",
       "      <td>7.0</td>\n",
       "      <td>6250.000000</td>\n",
       "      <td>20.000</td>\n",
       "      <td>1</td>\n",
       "      <td>0</td>\n",
       "      <td>15</td>\n",
       "      <td>2</td>\n",
       "      <td>19</td>\n",
       "      <td>0.92</td>\n",
       "      <td>0.56</td>\n",
       "      <td>...</td>\n",
       "      <td>18.0</td>\n",
       "      <td>17.0</td>\n",
       "      <td>53.0</td>\n",
       "      <td>20.0</td>\n",
       "      <td>9.0</td>\n",
       "      <td>3</td>\n",
       "      <td>6</td>\n",
       "      <td>5</td>\n",
       "      <td>4</td>\n",
       "      <td>3</td>\n",
       "    </tr>\n",
       "    <tr>\n",
       "      <th>3</th>\n",
       "      <td>0.0</td>\n",
       "      <td>2413.666667</td>\n",
       "      <td>26.000</td>\n",
       "      <td>1</td>\n",
       "      <td>1</td>\n",
       "      <td>190</td>\n",
       "      <td>5</td>\n",
       "      <td>16</td>\n",
       "      <td>1.00</td>\n",
       "      <td>0.89</td>\n",
       "      <td>...</td>\n",
       "      <td>27.0</td>\n",
       "      <td>6.0</td>\n",
       "      <td>1.0</td>\n",
       "      <td>6.0</td>\n",
       "      <td>4.0</td>\n",
       "      <td>4</td>\n",
       "      <td>4</td>\n",
       "      <td>1</td>\n",
       "      <td>4</td>\n",
       "      <td>3</td>\n",
       "    </tr>\n",
       "    <tr>\n",
       "      <th>4</th>\n",
       "      <td>0.0</td>\n",
       "      <td>7666.666667</td>\n",
       "      <td>44.000</td>\n",
       "      <td>1</td>\n",
       "      <td>1</td>\n",
       "      <td>1504</td>\n",
       "      <td>10</td>\n",
       "      <td>13</td>\n",
       "      <td>0.96</td>\n",
       "      <td>0.97</td>\n",
       "      <td>...</td>\n",
       "      <td>21.0</td>\n",
       "      <td>31.0</td>\n",
       "      <td>206.0</td>\n",
       "      <td>31.0</td>\n",
       "      <td>11.0</td>\n",
       "      <td>4</td>\n",
       "      <td>6</td>\n",
       "      <td>1</td>\n",
       "      <td>4</td>\n",
       "      <td>5</td>\n",
       "    </tr>\n",
       "  </tbody>\n",
       "</table>\n",
       "<p>5 rows × 27 columns</p>\n",
       "</div>"
      ],
      "text/plain": [
       "   N10           N24     N23  C1  C2    N9  N8  C3   N21   N18  ...   N35  \\\n",
       "0  2.0   1750.000000  27.816   1   0     0   0  11  0.92  0.56  ...  12.0   \n",
       "1  0.0  10833.333330  40.000   1   4    72   4   2  0.88  0.06  ...  17.0   \n",
       "2  7.0   6250.000000  20.000   1   0    15   2  19  0.92  0.56  ...  18.0   \n",
       "3  0.0   2413.666667  26.000   1   1   190   5  16  1.00  0.89  ...  27.0   \n",
       "4  0.0   7666.666667  44.000   1   1  1504  10  13  0.96  0.97  ...  21.0   \n",
       "\n",
       "     N7     N2   N20    N4  N3_label  N1_label  N11_label  N34_label  \\\n",
       "0  10.0   53.0  20.0   9.0         3         6          2          4   \n",
       "1  19.0   22.0  17.0  16.0         4         2          3          4   \n",
       "2  17.0   53.0  20.0   9.0         3         6          5          4   \n",
       "3   6.0    1.0   6.0   4.0         4         4          1          4   \n",
       "4  31.0  206.0  31.0  11.0         4         6          1          4   \n",
       "\n",
       "   N19_label  \n",
       "0          3  \n",
       "1          7  \n",
       "2          3  \n",
       "3          3  \n",
       "4          5  \n",
       "\n",
       "[5 rows x 27 columns]"
      ]
     },
     "execution_count": 176,
     "metadata": {},
     "output_type": "execute_result"
    }
   ],
   "source": [
    "data.head()"
   ]
  },
  {
   "cell_type": "code",
   "execution_count": 204,
   "metadata": {},
   "outputs": [],
   "source": [
    "# Train-Test split\n",
    "X_train,X_test, y_train, y_test = train_test_split(data , y['Dependent_Variable'], stratify=y['Dependent_Variable'], test_size=0.3, random_state=42)"
   ]
  },
  {
   "cell_type": "markdown",
   "metadata": {},
   "source": [
    "### 1.Random Forest Classifier"
   ]
  },
  {
   "cell_type": "code",
   "execution_count": 182,
   "metadata": {},
   "outputs": [
    {
     "name": "stdout",
     "output_type": "stream",
     "text": [
      "Best HyperParameter:  {'max_features': 6, 'n_estimators': 500}\n"
     ]
    }
   ],
   "source": [
    "random_classifier = RandomForestClassifier()\n",
    "\n",
    "parameters = { 'max_features':np.arange(5,10),'n_estimators':[200,300,500]}\n",
    "\n",
    "random_grid = GridSearchCV(random_classifier, parameters, cv = 5) # Performing Grid Search to find the most optimal parameters\n",
    "\n",
    "random_grid.fit(X_train, y_train)\n",
    "\n",
    "print(\"Best HyperParameter: \",random_grid.best_params_)"
   ]
  },
  {
   "cell_type": "code",
   "execution_count": 205,
   "metadata": {},
   "outputs": [
    {
     "data": {
      "text/plain": [
       "RandomForestClassifier(bootstrap=True, class_weight='balanced',\n",
       "            criterion='entropy', max_depth=7, max_features='auto',\n",
       "            max_leaf_nodes=None, min_impurity_decrease=0.0,\n",
       "            min_impurity_split=None, min_samples_leaf=1,\n",
       "            min_samples_split=2, min_weight_fraction_leaf=0.0,\n",
       "            n_estimators=500, n_jobs=-1, oob_score=True, random_state=None,\n",
       "            verbose=0, warm_start=False)"
      ]
     },
     "execution_count": 205,
     "metadata": {},
     "output_type": "execute_result"
    }
   ],
   "source": [
    "rf_model = RandomForestClassifier(\n",
    "    n_estimators=500,\n",
    "    criterion='entropy',\n",
    "    max_depth=6,  \n",
    "    oob_score=True,   # estimate Out-of-Bag Cross Entropy\n",
    "    n_jobs=-1,   # paralellize over all CPU cores \n",
    "    class_weight='balanced')    # our classes are skewed\n",
    "\n",
    "\n",
    "rf_model.fit(X=X_train, y=y_train)"
   ]
  },
  {
   "cell_type": "code",
   "execution_count": 206,
   "metadata": {},
   "outputs": [
    {
     "data": {
      "text/plain": [
       "0.6953194617871209"
      ]
     },
     "execution_count": 206,
     "metadata": {},
     "output_type": "execute_result"
    }
   ],
   "source": [
    "rf_pred_probs=rf_model.predict(X_train)\n",
    "auc=metrics.roc_auc_score(y_train,rf_pred_probs)\n",
    "auc"
   ]
  },
  {
   "cell_type": "code",
   "execution_count": 207,
   "metadata": {},
   "outputs": [
    {
     "data": {
      "text/plain": [
       "0.6644928398867589"
      ]
     },
     "execution_count": 207,
     "metadata": {},
     "output_type": "execute_result"
    }
   ],
   "source": [
    "rf_pred_probs=rf_model.predict(X_test)\n",
    "auc=metrics.roc_auc_score(y_test,rf_pred_probs)\n",
    "auc"
   ]
  },
  {
   "cell_type": "code",
   "execution_count": 200,
   "metadata": {},
   "outputs": [
    {
     "data": {
      "image/png": "[encoded data removed]",
      "text/plain": [
       "<Figure size 360x360 with 2 Axes>"
      ]
     },
     "metadata": {},
     "output_type": "display_data"
    }
   ],
   "source": [
    "# Confusion Matrix \n",
    "df_cm = pd.DataFrame(metrics.confusion_matrix(y_test, rf_pred_probs), range(2),range(2))\n",
    "#sns.set(font_scale=1.8)#for label size\n",
    "plt.figure(figsize=(5,5))\n",
    "sns.heatmap(df_cm, annot=True,annot_kws={\"size\": 20}, fmt='g')\n",
    "plt.show()"
   ]
  },
  {
   "cell_type": "markdown",
   "metadata": {},
   "source": [
    "### 2.Gradient Boosting Classifier"
   ]
  },
  {
   "cell_type": "code",
   "execution_count": 147,
   "metadata": {},
   "outputs": [
    {
     "name": "stderr",
     "output_type": "stream",
     "text": [
      "C:\\Users\\abc\\Anaconda3\\lib\\site-packages\\sklearn\\model_selection\\_split.py:2053: FutureWarning: You should specify a value for 'cv' instead of relying on the default value. The default value will change from 3 to 5 in version 0.22.\n",
      "  warnings.warn(CV_WARNING, FutureWarning)\n"
     ]
    },
    {
     "name": "stdout",
     "output_type": "stream",
     "text": [
      "Best HyperParameter:  {'max_depth': 3, 'n_estimators': 150}\n"
     ]
    }
   ],
   "source": [
    "\n",
    "tuned_parameters =  {'n_estimators':[25, 50, 75,100,125,150,175,200],'max_depth':[3,5,7,9,10]}\n",
    "model = GridSearchCV(GradientBoostingClassifier(), tuned_parameters, scoring = 'roc_auc', n_jobs=-1)\n",
    "model.fit(X_train, y_train)\n",
    "\n",
    "print(\"Best HyperParameter: \",model.best_params_)"
   ]
  },
  {
   "cell_type": "code",
   "execution_count": 155,
   "metadata": {},
   "outputs": [
    {
     "data": {
      "text/plain": [
       "0.6453396141502608"
      ]
     },
     "execution_count": 155,
     "metadata": {},
     "output_type": "execute_result"
    }
   ],
   "source": [
    "clf = GradientBoostingClassifier(n_estimators= 150,max_depth=3)\n",
    "clf.fit(X_train,y_train)\n",
    "y_pred_tr=clf.predict(X_train)\n",
    "auc=metrics.roc_auc_score(y_train,y_pred_tr)\n",
    "auc"
   ]
  },
  {
   "cell_type": "code",
   "execution_count": 156,
   "metadata": {},
   "outputs": [
    {
     "data": {
      "text/plain": [
       "0.6177088933860964"
      ]
     },
     "execution_count": 156,
     "metadata": {},
     "output_type": "execute_result"
    }
   ],
   "source": [
    "y_pred=clf.predict(X_test)\n",
    "auc=metrics.roc_auc_score(y_test,y_pred)\n",
    "auc"
   ]
  },
  {
   "cell_type": "code",
   "execution_count": 160,
   "metadata": {},
   "outputs": [
    {
     "data": {
      "image/png": "[encoded data removed]",
      "text/plain": [
       "<Figure size 360x360 with 2 Axes>"
      ]
     },
     "metadata": {},
     "output_type": "display_data"
    }
   ],
   "source": [
    "df_cm = pd.DataFrame(metrics.confusion_matrix(y_test, y_pred), range(2),range(2))\n",
    "#sns.set(font_scale=1.8)#for label size\n",
    "plt.figure(figsize=(5,5))\n",
    "sns.heatmap(df_cm, annot=True,annot_kws={\"size\": 20}, fmt='g')\n",
    "plt.show()"
   ]
  },
  {
   "cell_type": "markdown",
   "metadata": {},
   "source": [
    "### 3. Stacking Model"
   ]
  },
  {
   "cell_type": "code",
   "execution_count": 201,
   "metadata": {},
   "outputs": [
    {
     "name": "stdout",
     "output_type": "stream",
     "text": [
      "Random Forest :  AUC Test: 0.67\n",
      "GradientBoosting : AUC Test: 0.62\n",
      "--------------------------------------------------\n"
     ]
    }
   ],
   "source": [
    "rf_model = RandomForestClassifier(\n",
    "    n_estimators=500,\n",
    "    criterion='entropy',\n",
    "    max_depth=7,  \n",
    "    oob_score=True,   # estimate Out-of-Bag Cross Entropy\n",
    "    n_jobs=-1,   # paralellize over all CPU cores \n",
    "    class_weight='balanced')    # our classes are skewed\n",
    "\n",
    "\n",
    "rf_model.fit(X=X_train, y=y_train)\n",
    "\n",
    "clf = GradientBoostingClassifier(n_estimators= 150,max_depth=3)\n",
    "clf.fit(X_train,y_train)\n",
    "\n",
    "\n",
    "print(\"Random Forest :  AUC Test: %0.2f\" % (metrics.roc_auc_score(y_test, rf_model.predict(X_test))))\n",
    "print(\"GradientBoosting : AUC Test: %0.2f\" % (metrics.roc_auc_score(y_test, clf.predict(X_test))))\n",
    "\n",
    "print(\"-\"*50)\n"
   ]
  },
  {
   "cell_type": "code",
   "execution_count": 202,
   "metadata": {},
   "outputs": [
    {
     "name": "stdout",
     "output_type": "stream",
     "text": [
      "AUC (train) on the stacking classifier : 0.6453396141502608\n",
      "AUC (test) on the stacking classifier : 0.6178721853521317\n"
     ]
    }
   ],
   "source": [
    "lr = RandomForestClassifier(n_estimators=500,max_depth=7)\n",
    "sclf = StackingClassifier(classifiers=[rf_model, clf], meta_classifier=lr)\n",
    "sclf.fit(X_train, y_train)\n",
    "\n",
    "y_pred=sclf.predict(X_train)\n",
    "auc=metrics.roc_auc_score(y_train,y_pred)\n",
    "\n",
    "print(\"AUC (train) on the stacking classifier :\",auc)\n",
    "\n",
    "y_pred=sclf.predict(X_test)\n",
    "auc_test=metrics.roc_auc_score(y_test,y_pred)\n",
    "\n",
    "print(\"AUC (test) on the stacking classifier :\",auc_test)\n"
   ]
  },
  {
   "cell_type": "code",
   "execution_count": 203,
   "metadata": {},
   "outputs": [
    {
     "data": {
      "image/png": "[encoded data removed]",
      "text/plain": [
       "<Figure size 360x360 with 2 Axes>"
      ]
     },
     "metadata": {},
     "output_type": "display_data"
    }
   ],
   "source": [
    "df_cm = pd.DataFrame(metrics.confusion_matrix(y_test, y_pred), range(2),range(2))\n",
    "#sns.set(font_scale=1.8)#for label size\n",
    "plt.figure(figsize=(5,5))\n",
    "sns.heatmap(df_cm, annot=True,annot_kws={\"size\": 20}, fmt='g')\n",
    "plt.show()"
   ]
  },
  {
   "cell_type": "markdown",
   "metadata": {},
   "source": [
    "### Data Modelling with oversampling the data"
   ]
  },
  {
   "cell_type": "code",
   "execution_count": 124,
   "metadata": {},
   "outputs": [],
   "source": [
    "# Merging data with the output variable\n",
    "X = pd.concat([data,y['Dependent_Variable']],axis=1)"
   ]
  },
  {
   "cell_type": "code",
   "execution_count": 125,
   "metadata": {},
   "outputs": [
    {
     "data": {
      "text/html": [
       "<div>\n",
       "<style scoped>\n",
       "    .dataframe tbody tr th:only-of-type {\n",
       "        vertical-align: middle;\n",
       "    }\n",
       "\n",
       "    .dataframe tbody tr th {\n",
       "        vertical-align: top;\n",
       "    }\n",
       "\n",
       "    .dataframe thead th {\n",
       "        text-align: right;\n",
       "    }\n",
       "</style>\n",
       "<table border=\"1\" class=\"dataframe\">\n",
       "  <thead>\n",
       "    <tr style=\"text-align: right;\">\n",
       "      <th></th>\n",
       "      <th>N10</th>\n",
       "      <th>N24</th>\n",
       "      <th>N23</th>\n",
       "      <th>C1</th>\n",
       "      <th>C2</th>\n",
       "      <th>N9</th>\n",
       "      <th>N8</th>\n",
       "      <th>C3</th>\n",
       "      <th>N21</th>\n",
       "      <th>N18</th>\n",
       "      <th>...</th>\n",
       "      <th>N7</th>\n",
       "      <th>N2</th>\n",
       "      <th>N20</th>\n",
       "      <th>N4</th>\n",
       "      <th>N3_label</th>\n",
       "      <th>N1_label</th>\n",
       "      <th>N11_label</th>\n",
       "      <th>N34_label</th>\n",
       "      <th>N19_label</th>\n",
       "      <th>Dependent_Variable</th>\n",
       "    </tr>\n",
       "  </thead>\n",
       "  <tbody>\n",
       "    <tr>\n",
       "      <th>0</th>\n",
       "      <td>2.0</td>\n",
       "      <td>1750.000000</td>\n",
       "      <td>27.816</td>\n",
       "      <td>1</td>\n",
       "      <td>0</td>\n",
       "      <td>0</td>\n",
       "      <td>0</td>\n",
       "      <td>11</td>\n",
       "      <td>0.92</td>\n",
       "      <td>0.56</td>\n",
       "      <td>...</td>\n",
       "      <td>10.0</td>\n",
       "      <td>53.0</td>\n",
       "      <td>20.0</td>\n",
       "      <td>9.0</td>\n",
       "      <td>3</td>\n",
       "      <td>6</td>\n",
       "      <td>2</td>\n",
       "      <td>4</td>\n",
       "      <td>3</td>\n",
       "      <td>1</td>\n",
       "    </tr>\n",
       "    <tr>\n",
       "      <th>1</th>\n",
       "      <td>0.0</td>\n",
       "      <td>10833.333330</td>\n",
       "      <td>40.000</td>\n",
       "      <td>1</td>\n",
       "      <td>4</td>\n",
       "      <td>72</td>\n",
       "      <td>4</td>\n",
       "      <td>2</td>\n",
       "      <td>0.88</td>\n",
       "      <td>0.06</td>\n",
       "      <td>...</td>\n",
       "      <td>19.0</td>\n",
       "      <td>22.0</td>\n",
       "      <td>17.0</td>\n",
       "      <td>16.0</td>\n",
       "      <td>4</td>\n",
       "      <td>2</td>\n",
       "      <td>3</td>\n",
       "      <td>4</td>\n",
       "      <td>7</td>\n",
       "      <td>0</td>\n",
       "    </tr>\n",
       "    <tr>\n",
       "      <th>2</th>\n",
       "      <td>7.0</td>\n",
       "      <td>6250.000000</td>\n",
       "      <td>20.000</td>\n",
       "      <td>1</td>\n",
       "      <td>0</td>\n",
       "      <td>15</td>\n",
       "      <td>2</td>\n",
       "      <td>19</td>\n",
       "      <td>0.92</td>\n",
       "      <td>0.56</td>\n",
       "      <td>...</td>\n",
       "      <td>17.0</td>\n",
       "      <td>53.0</td>\n",
       "      <td>20.0</td>\n",
       "      <td>9.0</td>\n",
       "      <td>3</td>\n",
       "      <td>6</td>\n",
       "      <td>5</td>\n",
       "      <td>4</td>\n",
       "      <td>3</td>\n",
       "      <td>1</td>\n",
       "    </tr>\n",
       "    <tr>\n",
       "      <th>3</th>\n",
       "      <td>0.0</td>\n",
       "      <td>2413.666667</td>\n",
       "      <td>26.000</td>\n",
       "      <td>1</td>\n",
       "      <td>1</td>\n",
       "      <td>190</td>\n",
       "      <td>5</td>\n",
       "      <td>16</td>\n",
       "      <td>1.00</td>\n",
       "      <td>0.89</td>\n",
       "      <td>...</td>\n",
       "      <td>6.0</td>\n",
       "      <td>1.0</td>\n",
       "      <td>6.0</td>\n",
       "      <td>4.0</td>\n",
       "      <td>4</td>\n",
       "      <td>4</td>\n",
       "      <td>1</td>\n",
       "      <td>4</td>\n",
       "      <td>3</td>\n",
       "      <td>0</td>\n",
       "    </tr>\n",
       "    <tr>\n",
       "      <th>4</th>\n",
       "      <td>0.0</td>\n",
       "      <td>7666.666667</td>\n",
       "      <td>44.000</td>\n",
       "      <td>1</td>\n",
       "      <td>1</td>\n",
       "      <td>1504</td>\n",
       "      <td>10</td>\n",
       "      <td>13</td>\n",
       "      <td>0.96</td>\n",
       "      <td>0.97</td>\n",
       "      <td>...</td>\n",
       "      <td>31.0</td>\n",
       "      <td>206.0</td>\n",
       "      <td>31.0</td>\n",
       "      <td>11.0</td>\n",
       "      <td>4</td>\n",
       "      <td>6</td>\n",
       "      <td>1</td>\n",
       "      <td>4</td>\n",
       "      <td>5</td>\n",
       "      <td>0</td>\n",
       "    </tr>\n",
       "  </tbody>\n",
       "</table>\n",
       "<p>5 rows × 28 columns</p>\n",
       "</div>"
      ],
      "text/plain": [
       "   N10           N24     N23  C1  C2    N9  N8  C3   N21   N18  ...    N7  \\\n",
       "0  2.0   1750.000000  27.816   1   0     0   0  11  0.92  0.56  ...  10.0   \n",
       "1  0.0  10833.333330  40.000   1   4    72   4   2  0.88  0.06  ...  19.0   \n",
       "2  7.0   6250.000000  20.000   1   0    15   2  19  0.92  0.56  ...  17.0   \n",
       "3  0.0   2413.666667  26.000   1   1   190   5  16  1.00  0.89  ...   6.0   \n",
       "4  0.0   7666.666667  44.000   1   1  1504  10  13  0.96  0.97  ...  31.0   \n",
       "\n",
       "      N2   N20    N4  N3_label  N1_label  N11_label  N34_label  N19_label  \\\n",
       "0   53.0  20.0   9.0         3         6          2          4          3   \n",
       "1   22.0  17.0  16.0         4         2          3          4          7   \n",
       "2   53.0  20.0   9.0         3         6          5          4          3   \n",
       "3    1.0   6.0   4.0         4         4          1          4          3   \n",
       "4  206.0  31.0  11.0         4         6          1          4          5   \n",
       "\n",
       "   Dependent_Variable  \n",
       "0                   1  \n",
       "1                   0  \n",
       "2                   1  \n",
       "3                   0  \n",
       "4                   0  \n",
       "\n",
       "[5 rows x 28 columns]"
      ]
     },
     "execution_count": 125,
     "metadata": {},
     "output_type": "execute_result"
    }
   ],
   "source": [
    "X.head()"
   ]
  },
  {
   "cell_type": "code",
   "execution_count": 129,
   "metadata": {},
   "outputs": [],
   "source": [
    "# Perform OverSampling\n",
    "df_maj = X[X.Dependent_Variable==0]\n",
    "df_min = X[X.Dependent_Variable==1]\n",
    "df_maj.shape,df_min.shape \n",
    "# Upsample minority class\n",
    "df_min_upsampled = resample(df_min, \n",
    "                                replace=True,     # sample with replacement\n",
    "                                 n_samples=df_maj.shape[0],    # to match majority class\n",
    "                                 random_state=42) # reproducible results\n",
    "\n",
    "df_upsampled = pd.concat([df_maj, df_min_upsampled])"
   ]
  },
  {
   "cell_type": "code",
   "execution_count": 132,
   "metadata": {},
   "outputs": [],
   "source": [
    "y_over=X['Dependent_Variable']"
   ]
  },
  {
   "cell_type": "code",
   "execution_count": 133,
   "metadata": {},
   "outputs": [],
   "source": [
    "X.drop('Dependent_Variable',axis=1,inplace=True)"
   ]
  },
  {
   "cell_type": "code",
   "execution_count": 211,
   "metadata": {},
   "outputs": [],
   "source": [
    "X_train,X_test, y_train, y_test = train_test_split(X , y_over, stratify=y_over, test_size=0.3, random_state=42)"
   ]
  },
  {
   "cell_type": "code",
   "execution_count": 139,
   "metadata": {},
   "outputs": [
    {
     "name": "stdout",
     "output_type": "stream",
     "text": [
      "Best HyperParameter:  {'max_features': 6, 'n_estimators': 300}\n"
     ]
    }
   ],
   "source": [
    "random_classifier = RandomForestClassifier()\n",
    "\n",
    "parameters = { 'max_features':np.arange(5,10),'n_estimators':[200,300,500]}\n",
    "\n",
    "random_grid = GridSearchCV(random_classifier, parameters, cv = 5) # Performing Grid Search to find the most optimal parameters\n",
    "\n",
    "random_grid.fit(X_train, y_train)\n",
    "\n",
    "print(\"Best HyperParameter: \",random_grid.best_params_)"
   ]
  },
  {
   "cell_type": "code",
   "execution_count": 213,
   "metadata": {},
   "outputs": [
    {
     "data": {
      "text/plain": [
       "0.6821739445333296"
      ]
     },
     "execution_count": 213,
     "metadata": {},
     "output_type": "execute_result"
    }
   ],
   "source": [
    "rf_model = RandomForestClassifier(\n",
    "    n_estimators=300,\n",
    "    criterion='entropy',\n",
    "    max_depth=6,  \n",
    "    oob_score=True,   # estimate Out-of-Bag Cross Entropy\n",
    "    n_jobs=-1,   # paralellize over all CPU cores \n",
    "    class_weight='balanced')    # our classes are skewed\n",
    "\n",
    "\n",
    "rf_model.fit(X=X_train, y=y_train)\n",
    "rf_pred_probs=rf_model.predict(X_train)\n",
    "auc=metrics.roc_auc_score(y_train,rf_pred_probs)\n",
    "auc"
   ]
  },
  {
   "cell_type": "code",
   "execution_count": 214,
   "metadata": {},
   "outputs": [
    {
     "data": {
      "text/plain": [
       "0.6621546409468675"
      ]
     },
     "execution_count": 214,
     "metadata": {},
     "output_type": "execute_result"
    }
   ],
   "source": [
    "rf_pred_probs=rf_model.predict(X_test)\n",
    "auc=metrics.roc_auc_score(y_test,rf_pred_probs)\n",
    "auc"
   ]
  },
  {
   "cell_type": "code",
   "execution_count": 215,
   "metadata": {},
   "outputs": [
    {
     "data": {
      "text/plain": [
       "0.6453396141502608"
      ]
     },
     "execution_count": 215,
     "metadata": {},
     "output_type": "execute_result"
    }
   ],
   "source": [
    "clf = GradientBoostingClassifier(n_estimators= 150,max_depth=3)\n",
    "clf.fit(X_train,y_train)\n",
    "y_pred_tr=clf.predict(X_train)\n",
    "auc=metrics.roc_auc_score(y_train,y_pred_tr)\n",
    "auc"
   ]
  },
  {
   "cell_type": "code",
   "execution_count": 216,
   "metadata": {},
   "outputs": [
    {
     "data": {
      "text/plain": [
       "0.6177088933860964"
      ]
     },
     "execution_count": 216,
     "metadata": {},
     "output_type": "execute_result"
    }
   ],
   "source": [
    "y_pred=clf.predict(X_test)\n",
    "auc=metrics.roc_auc_score(y_test,y_pred)\n",
    "auc"
   ]
  },
  {
   "cell_type": "markdown",
   "metadata": {},
   "source": [
    "> By performing oversampling auc score is not improving much it is same as that without oversampling so for final predictions we will not use oversampling."
   ]
  },
  {
   "cell_type": "markdown",
   "metadata": {},
   "source": [
    "### Test Dataset"
   ]
  },
  {
   "cell_type": "code",
   "execution_count": 171,
   "metadata": {},
   "outputs": [
    {
     "data": {
      "text/html": [
       "<div>\n",
       "<style scoped>\n",
       "    .dataframe tbody tr th:only-of-type {\n",
       "        vertical-align: middle;\n",
       "    }\n",
       "\n",
       "    .dataframe tbody tr th {\n",
       "        vertical-align: top;\n",
       "    }\n",
       "\n",
       "    .dataframe thead th {\n",
       "        text-align: right;\n",
       "    }\n",
       "</style>\n",
       "<table border=\"1\" class=\"dataframe\">\n",
       "  <thead>\n",
       "    <tr style=\"text-align: right;\">\n",
       "      <th></th>\n",
       "      <th>Unique_ID</th>\n",
       "      <th>C1</th>\n",
       "      <th>C2</th>\n",
       "      <th>C3</th>\n",
       "      <th>C4</th>\n",
       "      <th>C5</th>\n",
       "      <th>C6</th>\n",
       "      <th>C7</th>\n",
       "      <th>C8</th>\n",
       "      <th>N1</th>\n",
       "      <th>...</th>\n",
       "      <th>N26</th>\n",
       "      <th>N27</th>\n",
       "      <th>N28</th>\n",
       "      <th>N29</th>\n",
       "      <th>N30</th>\n",
       "      <th>N31</th>\n",
       "      <th>N32</th>\n",
       "      <th>N33</th>\n",
       "      <th>N34</th>\n",
       "      <th>N35</th>\n",
       "    </tr>\n",
       "  </thead>\n",
       "  <tbody>\n",
       "    <tr>\n",
       "      <th>0</th>\n",
       "      <td>Candidate_1602</td>\n",
       "      <td>1</td>\n",
       "      <td>0</td>\n",
       "      <td>0</td>\n",
       "      <td>23</td>\n",
       "      <td>0</td>\n",
       "      <td>True</td>\n",
       "      <td>0</td>\n",
       "      <td>True</td>\n",
       "      <td>18.00</td>\n",
       "      <td>...</td>\n",
       "      <td>NaN</td>\n",
       "      <td>NaN</td>\n",
       "      <td>NaN</td>\n",
       "      <td>NaN</td>\n",
       "      <td>NaN</td>\n",
       "      <td>NaN</td>\n",
       "      <td>NaN</td>\n",
       "      <td>50.0</td>\n",
       "      <td>90.38</td>\n",
       "      <td>23.0</td>\n",
       "    </tr>\n",
       "    <tr>\n",
       "      <th>1</th>\n",
       "      <td>Candidate_29650</td>\n",
       "      <td>1</td>\n",
       "      <td>0</td>\n",
       "      <td>2</td>\n",
       "      <td>4</td>\n",
       "      <td>2</td>\n",
       "      <td>True</td>\n",
       "      <td>2</td>\n",
       "      <td>True</td>\n",
       "      <td>16.75</td>\n",
       "      <td>...</td>\n",
       "      <td>NaN</td>\n",
       "      <td>NaN</td>\n",
       "      <td>NaN</td>\n",
       "      <td>NaN</td>\n",
       "      <td>NaN</td>\n",
       "      <td>NaN</td>\n",
       "      <td>NaN</td>\n",
       "      <td>300.0</td>\n",
       "      <td>532.93</td>\n",
       "      <td>16.0</td>\n",
       "    </tr>\n",
       "    <tr>\n",
       "      <th>2</th>\n",
       "      <td>Candidate_31061</td>\n",
       "      <td>1</td>\n",
       "      <td>2</td>\n",
       "      <td>3</td>\n",
       "      <td>38</td>\n",
       "      <td>1</td>\n",
       "      <td>False</td>\n",
       "      <td>4</td>\n",
       "      <td>True</td>\n",
       "      <td>29.99</td>\n",
       "      <td>...</td>\n",
       "      <td>6.0</td>\n",
       "      <td>6.0</td>\n",
       "      <td>0.0</td>\n",
       "      <td>0.0</td>\n",
       "      <td>5000.0</td>\n",
       "      <td>4334.59</td>\n",
       "      <td>-82.0</td>\n",
       "      <td>80.0</td>\n",
       "      <td>169.78</td>\n",
       "      <td>22.0</td>\n",
       "    </tr>\n",
       "    <tr>\n",
       "      <th>3</th>\n",
       "      <td>Candidate_5768</td>\n",
       "      <td>1</td>\n",
       "      <td>1</td>\n",
       "      <td>28</td>\n",
       "      <td>20</td>\n",
       "      <td>2</td>\n",
       "      <td>False</td>\n",
       "      <td>2</td>\n",
       "      <td>True</td>\n",
       "      <td>17.70</td>\n",
       "      <td>...</td>\n",
       "      <td>NaN</td>\n",
       "      <td>NaN</td>\n",
       "      <td>NaN</td>\n",
       "      <td>NaN</td>\n",
       "      <td>NaN</td>\n",
       "      <td>NaN</td>\n",
       "      <td>NaN</td>\n",
       "      <td>150.0</td>\n",
       "      <td>270.02</td>\n",
       "      <td>13.0</td>\n",
       "    </tr>\n",
       "    <tr>\n",
       "      <th>4</th>\n",
       "      <td>Candidate_27059</td>\n",
       "      <td>1</td>\n",
       "      <td>1</td>\n",
       "      <td>15</td>\n",
       "      <td>1</td>\n",
       "      <td>3</td>\n",
       "      <td>False</td>\n",
       "      <td>5</td>\n",
       "      <td>False</td>\n",
       "      <td>28.00</td>\n",
       "      <td>...</td>\n",
       "      <td>NaN</td>\n",
       "      <td>NaN</td>\n",
       "      <td>NaN</td>\n",
       "      <td>NaN</td>\n",
       "      <td>NaN</td>\n",
       "      <td>NaN</td>\n",
       "      <td>NaN</td>\n",
       "      <td>50.0</td>\n",
       "      <td>103.41</td>\n",
       "      <td>14.0</td>\n",
       "    </tr>\n",
       "  </tbody>\n",
       "</table>\n",
       "<p>5 rows × 44 columns</p>\n",
       "</div>"
      ],
      "text/plain": [
       "         Unique_ID  C1  C2  C3  C4  C5     C6  C7     C8     N1  ...  N26  \\\n",
       "0   Candidate_1602   1   0   0  23   0   True   0   True  18.00  ...  NaN   \n",
       "1  Candidate_29650   1   0   2   4   2   True   2   True  16.75  ...  NaN   \n",
       "2  Candidate_31061   1   2   3  38   1  False   4   True  29.99  ...  6.0   \n",
       "3   Candidate_5768   1   1  28  20   2  False   2   True  17.70  ...  NaN   \n",
       "4  Candidate_27059   1   1  15   1   3  False   5  False  28.00  ...  NaN   \n",
       "\n",
       "   N27  N28  N29     N30      N31   N32    N33     N34   N35  \n",
       "0  NaN  NaN  NaN     NaN      NaN   NaN   50.0   90.38  23.0  \n",
       "1  NaN  NaN  NaN     NaN      NaN   NaN  300.0  532.93  16.0  \n",
       "2  6.0  0.0  0.0  5000.0  4334.59 -82.0   80.0  169.78  22.0  \n",
       "3  NaN  NaN  NaN     NaN      NaN   NaN  150.0  270.02  13.0  \n",
       "4  NaN  NaN  NaN     NaN      NaN   NaN   50.0  103.41  14.0  \n",
       "\n",
       "[5 rows x 44 columns]"
      ]
     },
     "execution_count": 171,
     "metadata": {},
     "output_type": "execute_result"
    }
   ],
   "source": [
    "#Reading test data for predictions\n",
    "test=pd.read_csv('Test/X_test.csv')\n",
    "test.head()"
   ]
  },
  {
   "cell_type": "code",
   "execution_count": 172,
   "metadata": {},
   "outputs": [],
   "source": [
    "# Performing feature engineering and feature selection on test data\n",
    "def processTest(df):\n",
    "    threshold = 0.7\n",
    "    df = df[df.columns[df.isnull().sum()/len(df) < threshold]]\n",
    "    \n",
    "    # filling nan value in numerical column with the median\n",
    "    for i in df.columns:\n",
    "        if df[i].dtypes==float:\n",
    "            if df[i].isnull().sum()>0:\n",
    "                mediancol=df[i].median()\n",
    "                df[i].fillna(mediancol,inplace=True)\n",
    "    \n",
    "    df_subset=df[['N1', 'N3', 'N11', 'N34', 'N10', 'N19', 'N24', 'N23',\n",
    "        'C1', 'C2', 'N9', 'N8', 'C3', 'N21', 'N18', 'C5', 'C4', 'N17',\n",
    "       'N12', 'N22', 'N14', 'C7', 'N35', 'N7', 'N2', 'N20', 'N4']]\n",
    "    return df_subset"
   ]
  },
  {
   "cell_type": "code",
   "execution_count": 173,
   "metadata": {},
   "outputs": [
    {
     "name": "stderr",
     "output_type": "stream",
     "text": [
      "C:\\Users\\abc\\Anaconda3\\lib\\site-packages\\pandas\\core\\generic.py:6130: SettingWithCopyWarning: \n",
      "A value is trying to be set on a copy of a slice from a DataFrame\n",
      "\n",
      "See the caveats in the documentation: http://pandas.pydata.org/pandas-docs/stable/indexing.html#indexing-view-versus-copy\n",
      "  self._update_inplace(new_data)\n"
     ]
    }
   ],
   "source": [
    "test_data=processTest(test)"
   ]
  },
  {
   "cell_type": "code",
   "execution_count": 174,
   "metadata": {},
   "outputs": [
    {
     "data": {
      "text/plain": [
       "(11017, 27)"
      ]
     },
     "execution_count": 174,
     "metadata": {},
     "output_type": "execute_result"
    }
   ],
   "source": [
    "test_data.shape"
   ]
  },
  {
   "cell_type": "code",
   "execution_count": 175,
   "metadata": {},
   "outputs": [
    {
     "data": {
      "text/plain": [
       "Series([], dtype: int64)"
      ]
     },
     "execution_count": 175,
     "metadata": {},
     "output_type": "execute_result"
    }
   ],
   "source": [
    "nulls = test_data.isnull().sum()\n",
    "nulls[nulls > 0]"
   ]
  },
  {
   "cell_type": "code",
   "execution_count": 189,
   "metadata": {},
   "outputs": [
    {
     "name": "stdout",
     "output_type": "stream",
     "text": [
      "[[0.50668049 0.49331951]\n",
      " [0.45640165 0.54359835]\n",
      " [0.44183799 0.55816201]\n",
      " ...\n",
      " [0.50428276 0.49571724]\n",
      " [0.50059156 0.49940844]\n",
      " [0.44401978 0.55598022]]\n"
     ]
    }
   ],
   "source": [
    "# Predicting probabilities for each class\n",
    "predicted_probs = rf_model.predict_proba(test_data)\n",
    "# We will look at the predicted prices to ensure we have something sensible.\n",
    "print(predicted_probs)"
   ]
  },
  {
   "cell_type": "code",
   "execution_count": 190,
   "metadata": {},
   "outputs": [],
   "source": [
    "# Storing class1 probabilities in lst\n",
    "lst=[]\n",
    "for class_1 in predicted_probs:\n",
    "    lst.append(class_1[1])"
   ]
  },
  {
   "cell_type": "code",
   "execution_count": 193,
   "metadata": {},
   "outputs": [],
   "source": [
    "np_list=np.array(lst)"
   ]
  },
  {
   "cell_type": "code",
   "execution_count": 195,
   "metadata": {},
   "outputs": [],
   "source": [
    "my_submission = pd.DataFrame({'Unique_ID': test.Unique_ID, 'Class_1_Probability': np_list})\n",
    "# you could use any filename. We choose submission here\n",
    "my_submission.to_csv('submission.csv', index=False)"
   ]
  },
  {
   "cell_type": "code",
   "execution_count": 217,
   "metadata": {},
   "outputs": [
    {
     "name": "stdout",
     "output_type": "stream",
     "text": [
      "+----------------+---------------------------+-----------------+----------------+\n",
      "|   Model Name   | with/without oversampling | Train AUC Score | Test AUC Score |\n",
      "+----------------+---------------------------+-----------------+----------------+\n",
      "| Random Forest  |          without          |      0.695      |     0.664      |\n",
      "| Gradient boost |          without          |      0.645      |     0.617      |\n",
      "|    Stacking    |          without          |      0.645      |     0.617      |\n",
      "| Random Forest  |            with           |      0.682      |     0.662      |\n",
      "| Gradient boost |            with           |      0.645      |     0.617      |\n",
      "+----------------+---------------------------+-----------------+----------------+\n"
     ]
    }
   ],
   "source": [
    "from prettytable import PrettyTable\n",
    "ptable = PrettyTable()\n",
    "\n",
    "ptable.field_names=[\"Model Name\",\"with/without oversampling\",\"Train AUC Score\",\"Test AUC Score\"]\n",
    "ptable.add_row([\"Random Forest\",\"without\",\"0.695\",\"0.664\"])\n",
    "ptable.add_row([\"Gradient boost\",\"without\",\"0.645\",\"0.617\"])\n",
    "ptable.add_row([\"Stacking\",\"without\",\"0.645\",\"0.617\"])\n",
    "ptable.add_row([\"Random Forest\",\"with\",\"0.682\",\"0.662\"])\n",
    "ptable.add_row([\"Gradient boost\",\"with\",\"0.645\",\"0.617\"])\n",
    "print(ptable)"
   ]
  },
  {
   "cell_type": "code",
   "execution_count": null,
   "metadata": {},
   "outputs": [],
   "source": []
  }
 ],
 "metadata": {
  "kernelspec": {
   "display_name": "Python 3",
   "language": "python",
   "name": "python3"
  },
  "language_info": {
   "codemirror_mode": {
    "name": "ipython",
    "version": 3
   },
   "file_extension": ".py",
   "mimetype": "text/x-python",
   "name": "python",
   "nbconvert_exporter": "python",
   "pygments_lexer": "ipython3",
   "version": "3.7.3"
  }
 },
 "nbformat": 4,
 "nbformat_minor": 2
}
